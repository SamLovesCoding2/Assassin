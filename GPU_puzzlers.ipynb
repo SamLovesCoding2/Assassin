{
  "cells": [
    {
      "cell_type": "markdown",
      "id": "23454034",
      "metadata": {
        "lines_to_next_cell": 2,
        "id": "23454034"
      },
      "source": [
        "# GPU Puzzles\n",
        "- by [Sasha Rush](http://rush-nlp.com) - [srush_nlp](https://twitter.com/srush_nlp)"
      ]
    },
    {
      "cell_type": "markdown",
      "id": "09ffa5eb",
      "metadata": {
        "id": "09ffa5eb"
      },
      "source": [
        "![](https://github.com/srush/GPU-Puzzles/raw/main/cuda.png)"
      ]
    },
    {
      "cell_type": "markdown",
      "id": "c9064f5c",
      "metadata": {
        "id": "c9064f5c"
      },
      "source": [
        "GPU architectures are critical to machine learning, and seem to be\n",
        "becoming even more important every day. However, you can be an expert\n",
        "in machine learning without ever touching GPU code. It is hard to gain\n",
        "intuition working through abstractions."
      ]
    },
    {
      "cell_type": "markdown",
      "id": "d4af993a",
      "metadata": {
        "id": "d4af993a"
      },
      "source": [
        "This notebook is an attempt to teach beginner GPU programming in a\n",
        "completely interactive fashion. Instead of providing text with\n",
        "concepts, it throws you right into coding and building GPU\n",
        "kernels. The exercises use NUMBA which directly maps Python\n",
        "code to CUDA kernels. It looks like Python but is basically\n",
        "identical to writing low-level CUDA code.\n",
        "In a few hours, I think you can go from basics to\n",
        "understanding the real algorithms that power 99% of deep learning\n",
        "today. If you do want to read the manual, it is here:"
      ]
    },
    {
      "cell_type": "markdown",
      "id": "cb974c6b",
      "metadata": {
        "id": "cb974c6b"
      },
      "source": [
        "[NUMBA CUDA Guide](https://numba.readthedocs.io/en/stable/cuda/index.html)"
      ]
    },
    {
      "cell_type": "markdown",
      "id": "783f5a51",
      "metadata": {
        "id": "783f5a51"
      },
      "source": [
        "I recommend doing these in Colab, as it is easy to get started.  Be\n",
        "sure to make your own copy, turn on GPU mode in the settings (`Runtime / Change runtime type`, then set `Hardware accelerator` to `GPU`), and\n",
        "then get to coding."
      ]
    },
    {
      "cell_type": "markdown",
      "id": "743b3805",
      "metadata": {
        "id": "743b3805"
      },
      "source": [
        "[![Open In Colab](https://colab.research.google.com/assets/colab-badge.svg)](https://colab.research.google.com/github/srush/GPU-Puzzles/blob/main/GPU_puzzlers.ipynb)"
      ]
    },
    {
      "cell_type": "markdown",
      "id": "044bd802",
      "metadata": {
        "id": "044bd802"
      },
      "source": [
        "(If you are into this style of puzzle, also check out my [Tensor\n",
        "Puzzles](https://github.com/srush/Tensor-Puzzles) for PyTorch.)"
      ]
    },
    {
      "cell_type": "code",
      "execution_count": 6,
      "id": "4c078331",
      "metadata": {
        "execution": {
          "iopub.execute_input": "2022-08-07T21:24:28.090989Z",
          "iopub.status.busy": "2022-08-07T21:24:28.090509Z",
          "iopub.status.idle": "2022-08-07T21:24:40.218920Z",
          "shell.execute_reply": "2022-08-07T21:24:40.217864Z"
        },
        "lines_to_next_cell": 2,
        "id": "4c078331",
        "outputId": "dac8c7c3-59e7-40e4-ce4c-0d3031a2197c",
        "colab": {
          "base_uri": "https://localhost:8080/"
        }
      },
      "outputs": [
        {
          "output_type": "stream",
          "name": "stdout",
          "text": [
            "  Preparing metadata (setup.py) ... \u001b[?25l\u001b[?25hdone\n",
            "  Installing build dependencies ... \u001b[?25l\u001b[?25hdone\n",
            "  Getting requirements to build wheel ... \u001b[?25l\u001b[?25hdone\n",
            "  Preparing metadata (pyproject.toml) ... \u001b[?25l\u001b[?25hdone\n"
          ]
        }
      ],
      "source": [
        "!pip install -qqq git+https://github.com/chalk-diagrams/planar git+https://github.com/danoneata/chalk@srush-patch-1\n",
        "!wget -q https://github.com/srush/GPU-Puzzles/raw/main/robot.png https://github.com/srush/GPU-Puzzles/raw/main/lib.py"
      ]
    },
    {
      "cell_type": "code",
      "execution_count": 7,
      "id": "53cba43c",
      "metadata": {
        "execution": {
          "iopub.execute_input": "2022-08-07T21:24:40.223406Z",
          "iopub.status.busy": "2022-08-07T21:24:40.222945Z",
          "iopub.status.idle": "2022-08-07T21:24:40.697137Z",
          "shell.execute_reply": "2022-08-07T21:24:40.696287Z"
        },
        "id": "53cba43c"
      },
      "outputs": [],
      "source": [
        "import numba\n",
        "import numpy as np\n",
        "import warnings\n",
        "from lib import CudaProblem, Coord"
      ]
    },
    {
      "cell_type": "code",
      "execution_count": 8,
      "id": "76a82629",
      "metadata": {
        "execution": {
          "iopub.execute_input": "2022-08-07T21:24:40.701357Z",
          "iopub.status.busy": "2022-08-07T21:24:40.700827Z",
          "iopub.status.idle": "2022-08-07T21:24:40.705366Z",
          "shell.execute_reply": "2022-08-07T21:24:40.704574Z"
        },
        "lines_to_next_cell": 2,
        "id": "76a82629"
      },
      "outputs": [],
      "source": [
        "warnings.filterwarnings(\n",
        "    action=\"ignore\", category=numba.NumbaPerformanceWarning, module=\"numba\"\n",
        ")"
      ]
    },
    {
      "cell_type": "markdown",
      "id": "d0ad1b7a",
      "metadata": {
        "lines_to_next_cell": 2,
        "id": "d0ad1b7a"
      },
      "source": [
        "## Puzzle 1: Map\n",
        "\n",
        "Implement a \"kernel\" (GPU function) that adds 10 to each position of vector `a`\n",
        "and stores it in vector `out`.  You have 1 thread per position."
      ]
    },
    {
      "cell_type": "markdown",
      "id": "2bcbce0d",
      "metadata": {
        "lines_to_next_cell": 2,
        "id": "2bcbce0d"
      },
      "source": [
        "**Warning** This code looks like Python but it is really CUDA! You cannot use\n",
        "standard python tools like list comprehensions or ask for Numpy properties\n",
        "like shape or size (if you need the size, it is given as an argument).\n",
        "The puzzles only require doing simple operations, basically\n",
        "+, *, simple array indexing, for loops, and if statements.\n",
        "You are allowed to use local variables.\n",
        "If you get an\n",
        "error it is probably because you did something fancy :)."
      ]
    },
    {
      "cell_type": "markdown",
      "id": "cb5e1d85",
      "metadata": {
        "id": "cb5e1d85"
      },
      "source": [
        "*Tip: Think of the function `call` as being run 1 time for each thread.\n",
        "The only difference is that `cuda.threadIdx.x` changes each time.*"
      ]
    },
    {
      "cell_type": "code",
      "execution_count": 14,
      "id": "ab0899de",
      "metadata": {
        "execution": {
          "iopub.execute_input": "2022-08-07T21:24:40.710192Z",
          "iopub.status.busy": "2022-08-07T21:24:40.709745Z",
          "iopub.status.idle": "2022-08-07T21:24:40.779921Z",
          "shell.execute_reply": "2022-08-07T21:24:40.779104Z"
        },
        "id": "ab0899de",
        "outputId": "d68a557d-da76-463d-be0d-706c171ded4e",
        "colab": {
          "base_uri": "https://localhost:8080/",
          "height": 770
        }
      },
      "outputs": [
        {
          "output_type": "stream",
          "name": "stdout",
          "text": [
            "# Map\n",
            " \n",
            "   Score (Max Per Thread):\n",
            "   |  Global Reads | Global Writes |  Shared Reads | Shared Writes |\n",
            "   |             1 |             1 |             0 |             0 | \n",
            "\n"
          ]
        },
        {
          "output_type": "execute_result",
          "data": {
            "text/plain": [
              "Compose(envelope=<chalk.envelope.Envelope object at 0x78e602cb80d0>, diagram1=ApplyStyle(style=Style(line_width=None, line_color=None, fill_color=<Color white>, fill_opacity=None, dashing=None, output_size=None), diagram=Primitive(shape=Rectangle(width=11.616000000000001, height=12.936255200000002, radius=None), style=Style(line_width=None, line_color=None, fill_color=None, fill_opacity=None, dashing=None, output_size=None), transform=Affine(1.0, 0.0, 0.0,\n",
              "       0.0, 1.0, 0.0))), diagram2=ApplyTransform(transform=Affine(1.0, 0.0, -0.0,\n",
              "       0.0, 1.0, -5.643127600000001), diagram=Compose(envelope=<chalk.envelope.Envelope object at 0x78e602cbb7c0>, diagram1=Compose(envelope=<chalk.envelope.Envelope object at 0x78e602cbb760>, diagram1=Compose(envelope=<chalk.envelope.Envelope object at 0x78e602f02350>, diagram1=Compose(envelope=<chalk.envelope.Envelope object at 0x78e602f00be0>, diagram1=Compose(envelope=<chalk.envelope.Envelope object at 0x78e602f00040>, diagram1=Compose(envelope=<chalk.envelope.Envelope object at 0x78e6036e4e50>, diagram1=Primitive(shape=Spacer(width=0, height=1.5), style=Style(line_width=None, line_color=None, fill_color=None, fill_opacity=None, dashing=None, output_size=None), transform=Affine(1.0, 0.0, 0.0,\n",
              "       0.0, 1.0, 0.0)), diagram2=ApplyTransform(transform=Affine(1.0, 0.0, 0.0,\n",
              "       0.0, 1.0, 0.75), diagram=Primitive(shape=Text(text='Map', font_size=1), style=Style(line_width=None, line_color=None, fill_color=None, fill_opacity=None, dashing=None, output_size=None), transform=Affine(1.0, 0.0, 0.0,\n",
              "       0.0, 1.0, 0.0)))), diagram2=ApplyTransform(transform=Affine(1.0, 0.0, 0.0,\n",
              "       0.0, 1.0, 1.2501), diagram=Primitive(shape=Spacer(width=0, height=1), style=Style(line_width=None, line_color=None, fill_color=None, fill_opacity=None, dashing=None, output_size=None), transform=Affine(1.0, 0.0, 0.0,\n",
              "       0.0, 1.0, 0.0)))), diagram2=ApplyTransform(transform=Affine(1.0, 0.0, 0.0,\n",
              "       0.0, 1.0, 2.2500999999999998), diagram=ApplyTransform(transform=Affine(1.0, 0.0, -1.6500000000000001,\n",
              "       0.0, 1.0, -0.0), diagram=Compose(envelope=<chalk.envelope.Envelope object at 0x78e6036e56f0>, diagram1=Compose(envelope=<chalk.envelope.Envelope object at 0x78e602de7760>, diagram1=Compose(envelope=<chalk.envelope.Envelope object at 0x78e602fca830>, diagram1=Compose(envelope=<chalk.envelope.Envelope object at 0x78e602fc9060>, diagram1=Empty(), diagram2=ApplyTransform(transform=Affine(1.0, 0.0, 0.0,\n",
              "       0.0, 1.0, 0.0), diagram=Compose(envelope=<chalk.envelope.Envelope object at 0x78e602fcabf0>, diagram1=ApplyStyle(style=Style(line_width=None, line_color=None, fill_color=None, fill_opacity=0.7, dashing=None, output_size=None), diagram=ApplyStyle(style=Style(line_width=None, line_color=None, fill_color=<Color red>, fill_opacity=None, dashing=None, output_size=None), diagram=Primitive(shape=Circle(radius=0.5), style=Style(line_width=None, line_color=None, fill_color=None, fill_opacity=None, dashing=None, output_size=None), transform=Affine(1.0, 0.0, 0.0,\n",
              "       0.0, 1.0, 0.0)))), diagram2=Primitive(shape=Image(local_path='robot.png', url_path='https://raw.githubusercontent.com/minitorch/diagrams/main/robot.png'), style=Style(line_width=None, line_color=None, fill_color=None, fill_opacity=None, dashing=None, output_size=None), transform=Affine(0.0008333333333333334, 0.0, 0.0,\n",
              "       0.0, 0.0008333333333333334, 0.0))))), diagram2=ApplyTransform(transform=Affine(1.0, 0.0, 1.1,\n",
              "       0.0, 1.0, 0.0), diagram=Compose(envelope=<chalk.envelope.Envelope object at 0x78e602fc8820>, diagram1=ApplyStyle(style=Style(line_width=None, line_color=None, fill_color=None, fill_opacity=0.7, dashing=None, output_size=None), diagram=ApplyStyle(style=Style(line_width=None, line_color=None, fill_color=<Color #ff7100>, fill_opacity=None, dashing=None, output_size=None), diagram=Primitive(shape=Circle(radius=0.5), style=Style(line_width=None, line_color=None, fill_color=None, fill_opacity=None, dashing=None, output_size=None), transform=Affine(1.0, 0.0, 0.0,\n",
              "       0.0, 1.0, 0.0)))), diagram2=Primitive(shape=Image(local_path='robot.png', url_path='https://raw.githubusercontent.com/minitorch/diagrams/main/robot.png'), style=Style(line_width=None, line_color=None, fill_color=None, fill_opacity=None, dashing=None, output_size=None), transform=Affine(0.0008333333333333334, 0.0, 0.0,\n",
              "       0.0, 0.0008333333333333334, 0.0))))), diagram2=ApplyTransform(transform=Affine(1.0, 0.0, 2.2,\n",
              "       0.0, 1.0, 0.0), diagram=Compose(envelope=<chalk.envelope.Envelope object at 0x78e602fc9540>, diagram1=ApplyStyle(style=Style(line_width=None, line_color=None, fill_color=None, fill_opacity=0.7, dashing=None, output_size=None), diagram=ApplyStyle(style=Style(line_width=None, line_color=None, fill_color=<Color #ffe300>, fill_opacity=None, dashing=None, output_size=None), diagram=Primitive(shape=Circle(radius=0.5), style=Style(line_width=None, line_color=None, fill_color=None, fill_opacity=None, dashing=None, output_size=None), transform=Affine(1.0, 0.0, 0.0,\n",
              "       0.0, 1.0, 0.0)))), diagram2=Primitive(shape=Image(local_path='robot.png', url_path='https://raw.githubusercontent.com/minitorch/diagrams/main/robot.png'), style=Style(line_width=None, line_color=None, fill_color=None, fill_opacity=None, dashing=None, output_size=None), transform=Affine(0.0008333333333333334, 0.0, 0.0,\n",
              "       0.0, 0.0008333333333333334, 0.0))))), diagram2=ApplyTransform(transform=Affine(1.0, 0.0, 3.3000000000000003,\n",
              "       0.0, 1.0, 0.0), diagram=Compose(envelope=<chalk.envelope.Envelope object at 0x78e602fc91e0>, diagram1=ApplyStyle(style=Style(line_width=None, line_color=None, fill_color=None, fill_opacity=0.7, dashing=None, output_size=None), diagram=ApplyStyle(style=Style(line_width=None, line_color=None, fill_color=<Color #af0>, fill_opacity=None, dashing=None, output_size=None), diagram=Primitive(shape=Circle(radius=0.5), style=Style(line_width=None, line_color=None, fill_color=None, fill_opacity=None, dashing=None, output_size=None), transform=Affine(1.0, 0.0, 0.0,\n",
              "       0.0, 1.0, 0.0)))), diagram2=Primitive(shape=Image(local_path='robot.png', url_path='https://raw.githubusercontent.com/minitorch/diagrams/main/robot.png'), style=Style(line_width=None, line_color=None, fill_color=None, fill_opacity=None, dashing=None, output_size=None), transform=Affine(0.0008333333333333334, 0.0, 0.0,\n",
              "       0.0, 0.0008333333333333334, 0.0)))))))), diagram2=ApplyTransform(transform=Affine(1.0, 0.0, 0.0,\n",
              "       0.0, 1.0, 3.2500999999999998), diagram=Primitive(shape=Spacer(width=0, height=1), style=Style(line_width=None, line_color=None, fill_color=None, fill_opacity=None, dashing=None, output_size=None), transform=Affine(1.0, 0.0, 0.0,\n",
              "       0.0, 1.0, 0.0)))), diagram2=ApplyTransform(transform=Affine(1.0, 0.0, 0.0,\n",
              "       0.0, 1.0, 7.380166), diagram=ApplyTransform(transform=Affine(1.0, 0.0, -0.0,\n",
              "       0.0, 1.0, -0.0), diagram=Compose(envelope=<chalk.envelope.Envelope object at 0x78e602fca2f0>, diagram1=Empty(), diagram2=ApplyTransform(transform=Affine(1.0, 0.0, 0.0,\n",
              "       0.0, 1.0, 0.0), diagram=Compose(envelope=<chalk.envelope.Envelope object at 0x78e602fcabc0>, diagram1=Compose(envelope=<chalk.envelope.Envelope object at 0x78e602fca6b0>, diagram1=Compose(envelope=<chalk.envelope.Envelope object at 0x78e602f8e530>, diagram1=ApplyTransform(transform=Affine(1.0, 0.0, -3.5,\n",
              "       0.0, 1.0, -0.0), diagram=Compose(envelope=<chalk.envelope.Envelope object at 0x78e602f8f430>, diagram1=Compose(envelope=<chalk.envelope.Envelope object at 0x78e602f8ead0>, diagram1=Primitive(shape=Spacer(width=1, height=0), style=Style(line_width=None, line_color=None, fill_color=None, fill_opacity=None, dashing=None, output_size=None), transform=Affine(1.0, 0.0, 0.0,\n",
              "       0.0, 1.0, 0.0)), diagram2=ApplyTransform(transform=Affine(1.0, 0.0, 3.5,\n",
              "       0.0, 1.0, 0.0), diagram=ApplyTransform(transform=Affine(1.0, 0.0, -0.0,\n",
              "       0.0, 1.0, 0.5000499999999999), diagram=Compose(envelope=<chalk.envelope.Envelope object at 0x78e602f8ea70>, diagram1=ApplyTransform(transform=Affine(1.0, 0.0, -2.5,\n",
              "       0.0, 1.0, -0.0), diagram=Compose(envelope=<chalk.envelope.Envelope object at 0x78e602f2bcd0>, diagram1=Compose(envelope=<chalk.envelope.Envelope object at 0x78e602f2ac20>, diagram1=Compose(envelope=<chalk.envelope.Envelope object at 0x78e6030be7d0>, diagram1=Compose(envelope=<chalk.envelope.Envelope object at 0x78e602b02860>, diagram1=Compose(envelope=<chalk.envelope.Envelope object at 0x78e602b03c40>, diagram1=Compose(envelope=<chalk.envelope.Envelope object at 0x78e602b01a80>, diagram1=Compose(envelope=<chalk.envelope.Envelope object at 0x78e602b038b0>, diagram1=Compose(envelope=<chalk.envelope.Envelope object at 0x78e602b013c0>, diagram1=ApplyTransform(transform=Affine(1.0, 0.0, -0.0,\n",
              "       0.0, 1.0, 0.25), diagram=Compose(envelope=<chalk.envelope.Envelope object at 0x78e602ab8e20>, diagram1=ApplyStyle(style=Style(line_width=(<WidthType.NORMALIZED: 2>, 0.05), line_color=None, fill_color=None, fill_opacity=None, dashing=None, output_size=None), diagram=ApplyTransform(transform=Affine(1.0, 0.0, -0.0,\n",
              "       0.0, 1.0, -1.5), diagram=Compose(envelope=<chalk.envelope.Envelope object at 0x78e602e4c6d0>, diagram1=Compose(envelope=<chalk.envelope.Envelope object at 0x78e602e4c850>, diagram1=Compose(envelope=<chalk.envelope.Envelope object at 0x78e602e4d0f0>, diagram1=Compose(envelope=<chalk.envelope.Envelope object at 0x78e602adad10>, diagram1=Empty(), diagram2=ApplyName(dname=('a', 0), diagram=Primitive(shape=Rectangle(width=1, height=1, radius=None), style=Style(line_width=None, line_color=None, fill_color=None, fill_opacity=None, dashing=None, output_size=None), transform=Affine(1.0, 0.0, 0.0,\n",
              "       0.0, 1.0, 0.0)))), diagram2=ApplyName(dname=('a', 1), diagram=Primitive(shape=Rectangle(width=1, height=1, radius=None), style=Style(line_width=None, line_color=None, fill_color=None, fill_opacity=None, dashing=None, output_size=None), transform=Affine(1.0, 0.0, 0.0,\n",
              "       0.0, 1.0, 1.0)))), diagram2=ApplyName(dname=('a', 2), diagram=Primitive(shape=Rectangle(width=1, height=1, radius=None), style=Style(line_width=None, line_color=None, fill_color=None, fill_opacity=None, dashing=None, output_size=None), transform=Affine(1.0, 0.0, 0.0,\n",
              "       0.0, 1.0, 2.0)))), diagram2=ApplyName(dname=('a', 3), diagram=Primitive(shape=Rectangle(width=1, height=1, radius=None), style=Style(line_width=None, line_color=None, fill_color=None, fill_opacity=None, dashing=None, output_size=None), transform=Affine(1.0, 0.0, 0.0,\n",
              "       0.0, 1.0, 3.0)))))), diagram2=ApplyTransform(transform=Affine(1.0, 0.0, -0.0,\n",
              "       0.0, 1.0, -2.25), diagram=Compose(envelope=<chalk.envelope.Envelope object at 0x78e602ab8100>, diagram1=ApplyStyle(style=Style(line_width=(<WidthType.NORMALIZED: 2>, 0.0), line_color=None, fill_color=None, fill_opacity=None, dashing=None, output_size=None), diagram=ApplyStyle(style=Style(line_width=None, line_color=None, fill_color=<Color black>, fill_opacity=None, dashing=None, output_size=None), diagram=Primitive(shape=Text(text='a', font_size=0.5), style=Style(line_width=None, line_color=None, fill_color=None, fill_opacity=None, dashing=None, output_size=None), transform=Affine(1.0, 0.0, 0.0,\n",
              "       0.0, 1.0, 0.0)))), diagram2=Primitive(shape=Spacer(width=0, height=0.5), style=Style(line_width=None, line_color=None, fill_color=None, fill_opacity=None, dashing=None, output_size=None), transform=Affine(1.0, 0.0, 0.0,\n",
              "       0.0, 1.0, 0.0)))))), diagram2=ApplyTransform(transform=Affine(1.0, 0.0, 1.5,\n",
              "       0.0, 1.0, 0.0), diagram=Primitive(shape=Spacer(width=2.0, height=0), style=Style(line_width=None, line_color=None, fill_color=None, fill_opacity=None, dashing=None, output_size=None), transform=Affine(1.0, 0.0, 0.0,\n",
              "       0.0, 1.0, 0.0)))), diagram2=ApplyTransform(transform=Affine(1.0, 0.0, 2.5,\n",
              "       0.0, 1.0, 0.0), diagram=Empty())), diagram2=ApplyTransform(transform=Affine(1.0, 0.0, 3.5,\n",
              "       0.0, 1.0, 0.0), diagram=Primitive(shape=Spacer(width=2.0, height=0), style=Style(line_width=None, line_color=None, fill_color=None, fill_opacity=None, dashing=None, output_size=None), transform=Affine(1.0, 0.0, 0.0,\n",
              "       0.0, 1.0, 0.0)))), diagram2=ApplyTransform(transform=Affine(1.0, 0.0, 5.0,\n",
              "       0.0, 1.0, 0.0), diagram=ApplyTransform(transform=Affine(1.0, 0.0, -0.0,\n",
              "       0.0, 1.0, 0.25), diagram=Compose(envelope=<chalk.envelope.Envelope object at 0x78e602b015d0>, diagram1=ApplyStyle(style=Style(line_width=(<WidthType.NORMALIZED: 2>, 0.05), line_color=None, fill_color=None, fill_opacity=None, dashing=None, output_size=None), diagram=ApplyTransform(transform=Affine(1.0, 0.0, -0.0,\n",
              "       0.0, 1.0, -1.5), diagram=Compose(envelope=<chalk.envelope.Envelope object at 0x78e602b01b40>, diagram1=Compose(envelope=<chalk.envelope.Envelope object at 0x78e603116b30>, diagram1=Compose(envelope=<chalk.envelope.Envelope object at 0x78e603116d70>, diagram1=Compose(envelope=<chalk.envelope.Envelope object at 0x78e603116320>, diagram1=Empty(), diagram2=ApplyName(dname=('out', 0), diagram=Primitive(shape=Rectangle(width=1, height=1, radius=None), style=Style(line_width=None, line_color=None, fill_color=None, fill_opacity=None, dashing=None, output_size=None), transform=Affine(1.0, 0.0, 0.0,\n",
              "       0.0, 1.0, 0.0)))), diagram2=ApplyName(dname=('out', 1), diagram=Primitive(shape=Rectangle(width=1, height=1, radius=None), style=Style(line_width=None, line_color=None, fill_color=None, fill_opacity=None, dashing=None, output_size=None), transform=Affine(1.0, 0.0, 0.0,\n",
              "       0.0, 1.0, 1.0)))), diagram2=ApplyName(dname=('out', 2), diagram=Primitive(shape=Rectangle(width=1, height=1, radius=None), style=Style(line_width=None, line_color=None, fill_color=None, fill_opacity=None, dashing=None, output_size=None), transform=Affine(1.0, 0.0, 0.0,\n",
              "       0.0, 1.0, 2.0)))), diagram2=ApplyName(dname=('out', 3), diagram=Primitive(shape=Rectangle(width=1, height=1, radius=None), style=Style(line_width=None, line_color=None, fill_color=None, fill_opacity=None, dashing=None, output_size=None), transform=Affine(1.0, 0.0, 0.0,\n",
              "       0.0, 1.0, 3.0)))))), diagram2=ApplyTransform(transform=Affine(1.0, 0.0, -0.0,\n",
              "       0.0, 1.0, -2.25), diagram=Compose(envelope=<chalk.envelope.Envelope object at 0x78e602b00130>, diagram1=ApplyStyle(style=Style(line_width=(<WidthType.NORMALIZED: 2>, 0.0), line_color=None, fill_color=None, fill_opacity=None, dashing=None, output_size=None), diagram=ApplyStyle(style=Style(line_width=None, line_color=None, fill_color=<Color black>, fill_opacity=None, dashing=None, output_size=None), diagram=Primitive(shape=Text(text='out', font_size=0.5), style=Style(line_width=None, line_color=None, fill_color=None, fill_opacity=None, dashing=None, output_size=None), transform=Affine(1.0, 0.0, 0.0,\n",
              "       0.0, 1.0, 0.0)))), diagram2=Primitive(shape=Spacer(width=0, height=0.5), style=Style(line_width=None, line_color=None, fill_color=None, fill_opacity=None, dashing=None, output_size=None), transform=Affine(1.0, 0.0, 0.0,\n",
              "       0.0, 1.0, 0.0)))))))), diagram2=Compose(envelope=<chalk.envelope.Envelope object at 0x78e602b02920>, diagram1=Compose(envelope=<chalk.envelope.Envelope object at 0x78e602b004c0>, diagram1=Empty(), diagram2=Empty()), diagram2=Compose(envelope=<chalk.envelope.Envelope object at 0x78e602b03c70>, diagram1=Empty(), diagram2=Compose(envelope=<chalk.envelope.Envelope object at 0x78e602b02080>, diagram1=Compose(envelope=<chalk.envelope.Envelope object at 0x78e602b002e0>, diagram1=Compose(envelope=<chalk.envelope.Envelope object at 0x78e602b01d50>, diagram1=Empty(), diagram2=ApplyStyle(style=Style(line_width=None, line_color=<Color red>, fill_color=None, fill_opacity=None, dashing=None, output_size=None), diagram=ApplyStyle(style=Style(line_width=(<WidthType.NORMALIZED: 2>, 0.04), line_color=None, fill_color=None, fill_opacity=None, dashing=None, output_size=None), diagram=Primitive(shape=Path(points=Vec2Array([(0.0, 0.0), (4.81875, 0.0)]), arrow=False), style=Style(line_width=None, line_color=None, fill_color=None, fill_opacity=None, dashing=None, output_size=None), transform=Affine(-1.0, 0.0, 4.5,\n",
              "       0.0, -1.0, -1.25))))), diagram2=Compose(envelope=<chalk.envelope.Envelope object at 0x78e602b012a0>, diagram1=Empty(), diagram2=ApplyTransform(transform=Affine(1.0, 0.0, 5.0,\n",
              "       0.0, 1.0, -1.25), diagram=ApplyStyle(style=Style(line_width=(<WidthType.NORMALIZED: 2>, 0.15), line_color=None, fill_color=None, fill_opacity=None, dashing=None, output_size=None), diagram=ApplyStyle(style=Style(line_width=None, line_color=<Color red>, fill_color=None, fill_opacity=None, dashing=None, output_size=None), diagram=ApplyStyle(style=Style(line_width=None, line_color=None, fill_color=None, fill_opacity=0, dashing=None, output_size=None), diagram=Primitive(shape=Rectangle(width=0.95, height=0.95, radius=None), style=Style(line_width=None, line_color=None, fill_color=None, fill_opacity=None, dashing=None, output_size=None), transform=Affine(1.0, 0.0, 0.0,\n",
              "       0.0, 1.0, 0.0)))))))), diagram2=Compose(envelope=<chalk.envelope.Envelope object at 0x78e602b02290>, diagram1=Empty(), diagram2=ApplyTransform(transform=Affine(1.0, 0.0, -0.31875,\n",
              "       0.0, 1.0, -1.25), diagram=ApplyStyle(style=Style(line_width=None, line_color=None, fill_color=<Color red>, fill_opacity=None, dashing=None, output_size=None), diagram=ApplyStyle(style=Style(line_width=(<WidthType.NORMALIZED: 2>, 0.04), line_color=None, fill_color=None, fill_opacity=None, dashing=None, output_size=None), diagram=Primitive(shape=Circle(radius=0.1), style=Style(line_width=None, line_color=None, fill_color=None, fill_opacity=None, dashing=None, output_size=None), transform=Affine(1.0, 0.0, 0.0,\n",
              "       0.0, 1.0, 0.0)))))))))), diagram2=Compose(envelope=<chalk.envelope.Envelope object at 0x78e6030be3e0>, diagram1=Compose(envelope=<chalk.envelope.Envelope object at 0x78e6030bd090>, diagram1=Empty(), diagram2=Empty()), diagram2=Compose(envelope=<chalk.envelope.Envelope object at 0x78e6030bf7c0>, diagram1=Empty(), diagram2=Compose(envelope=<chalk.envelope.Envelope object at 0x78e6030bd3f0>, diagram1=Compose(envelope=<chalk.envelope.Envelope object at 0x78e6030be950>, diagram1=Compose(envelope=<chalk.envelope.Envelope object at 0x78e6030bcee0>, diagram1=Empty(), diagram2=ApplyStyle(style=Style(line_width=None, line_color=<Color #ff7100>, fill_color=None, fill_opacity=None, dashing=None, output_size=None), diagram=ApplyStyle(style=Style(line_width=(<WidthType.NORMALIZED: 2>, 0.04), line_color=None, fill_color=None, fill_opacity=None, dashing=None, output_size=None), diagram=Primitive(shape=Path(points=Vec2Array([(0.0, 0.0), (4.60625, 0.0)]), arrow=False), style=Style(line_width=None, line_color=None, fill_color=None, fill_opacity=None, dashing=None, output_size=None), transform=Affine(-1.0, 0.0, 4.5,\n",
              "       0.0, -1.0, -0.25))))), diagram2=Compose(envelope=<chalk.envelope.Envelope object at 0x78e6030bc400>, diagram1=Empty(), diagram2=ApplyTransform(transform=Affine(1.0, 0.0, 5.0,\n",
              "       0.0, 1.0, -0.25), diagram=ApplyStyle(style=Style(line_width=(<WidthType.NORMALIZED: 2>, 0.15), line_color=None, fill_color=None, fill_opacity=None, dashing=None, output_size=None), diagram=ApplyStyle(style=Style(line_width=None, line_color=<Color #ff7100>, fill_color=None, fill_opacity=None, dashing=None, output_size=None), diagram=ApplyStyle(style=Style(line_width=None, line_color=None, fill_color=None, fill_opacity=0, dashing=None, output_size=None), diagram=Primitive(shape=Rectangle(width=0.95, height=0.95, radius=None), style=Style(line_width=None, line_color=None, fill_color=None, fill_opacity=None, dashing=None, output_size=None), transform=Affine(1.0, 0.0, 0.0,\n",
              "       0.0, 1.0, 0.0)))))))), diagram2=Compose(envelope=<chalk.envelope.Envelope object at 0x78e6030bf370>, diagram1=Empty(), diagram2=ApplyTransform(transform=Affine(1.0, 0.0, -0.10625,\n",
              "       0.0, 1.0, -0.25), diagram=ApplyStyle(style=Style(line_width=None, line_color=None, fill_color=<Color #ff7100>, fill_opacity=None, dashing=None, output_size=None), diagram=ApplyStyle(style=Style(line_width=(<WidthType.NORMALIZED: 2>, 0.04), line_color=None, fill_color=None, fill_opacity=None, dashing=None, output_size=None), diagram=Primitive(shape=Circle(radius=0.1), style=Style(line_width=None, line_color=None, fill_color=None, fill_opacity=None, dashing=None, output_size=None), transform=Affine(1.0, 0.0, 0.0,\n",
              "       0.0, 1.0, 0.0)))))))))), diagram2=Compose(envelope=<chalk.envelope.Envelope object at 0x78e6030bd2a0>, diagram1=Compose(envelope=<chalk.envelope.Envelope object at 0x78e6030bd2d0>, diagram1=Empty(), diagram2=Empty()), diagram2=Compose(envelope=<chalk.envelope.Envelope object at 0x78e602f2ad10>, diagram1=Empty(), diagram2=Compose(envelope=<chalk.envelope.Envelope object at 0x78e602f2b0a0>, diagram1=Compose(envelope=<chalk.envelope.Envelope object at 0x78e602f29060>, diagram1=Compose(envelope=<chalk.envelope.Envelope object at 0x78e602f29ae0>, diagram1=Empty(), diagram2=ApplyStyle(style=Style(line_width=None, line_color=<Color #ffe300>, fill_color=None, fill_opacity=None, dashing=None, output_size=None), diagram=ApplyStyle(style=Style(line_width=(<WidthType.NORMALIZED: 2>, 0.04), line_color=None, fill_color=None, fill_opacity=None, dashing=None, output_size=None), diagram=Primitive(shape=Path(points=Vec2Array([(0.0, 0.0), (4.39375, 0.0)]), arrow=False), style=Style(line_width=None, line_color=None, fill_color=None, fill_opacity=None, dashing=None, output_size=None), transform=Affine(-1.0, 0.0, 4.5,\n",
              "       0.0, -1.0, 0.75))))), diagram2=Compose(envelope=<chalk.envelope.Envelope object at 0x78e602f28f70>, diagram1=Empty(), diagram2=ApplyTransform(transform=Affine(1.0, 0.0, 5.0,\n",
              "       0.0, 1.0, 0.75), diagram=ApplyStyle(style=Style(line_width=(<WidthType.NORMALIZED: 2>, 0.15), line_color=None, fill_color=None, fill_opacity=None, dashing=None, output_size=None), diagram=ApplyStyle(style=Style(line_width=None, line_color=<Color #ffe300>, fill_color=None, fill_opacity=None, dashing=None, output_size=None), diagram=ApplyStyle(style=Style(line_width=None, line_color=None, fill_color=None, fill_opacity=0, dashing=None, output_size=None), diagram=Primitive(shape=Rectangle(width=0.95, height=0.95, radius=None), style=Style(line_width=None, line_color=None, fill_color=None, fill_opacity=None, dashing=None, output_size=None), transform=Affine(1.0, 0.0, 0.0,\n",
              "       0.0, 1.0, 0.0)))))))), diagram2=Compose(envelope=<chalk.envelope.Envelope object at 0x78e602e4c3d0>, diagram1=Empty(), diagram2=ApplyTransform(transform=Affine(1.0, 0.0, 0.10625,\n",
              "       0.0, 1.0, 0.75), diagram=ApplyStyle(style=Style(line_width=None, line_color=None, fill_color=<Color #ffe300>, fill_opacity=None, dashing=None, output_size=None), diagram=ApplyStyle(style=Style(line_width=(<WidthType.NORMALIZED: 2>, 0.04), line_color=None, fill_color=None, fill_opacity=None, dashing=None, output_size=None), diagram=Primitive(shape=Circle(radius=0.1), style=Style(line_width=None, line_color=None, fill_color=None, fill_opacity=None, dashing=None, output_size=None), transform=Affine(1.0, 0.0, 0.0,\n",
              "       0.0, 1.0, 0.0)))))))))), diagram2=Compose(envelope=<chalk.envelope.Envelope object at 0x78e602f2bf10>, diagram1=Compose(envelope=<chalk.envelope.Envelope object at 0x78e602f2bb20>, diagram1=Empty(), diagram2=Empty()), diagram2=Compose(envelope=<chalk.envelope.Envelope object at 0x78e602f2bc40>, diagram1=Empty(), diagram2=Compose(envelope=<chalk.envelope.Envelope object at 0x78e602f29510>, diagram1=Compose(envelope=<chalk.envelope.Envelope object at 0x78e602f29390>, diagram1=Compose(envelope=<chalk.envelope.Envelope object at 0x78e602f2a770>, diagram1=Empty(), diagram2=ApplyStyle(style=Style(line_width=None, line_color=<Color #af0>, fill_color=None, fill_opacity=None, dashing=None, output_size=None), diagram=ApplyStyle(style=Style(line_width=(<WidthType.NORMALIZED: 2>, 0.04), line_color=None, fill_color=None, fill_opacity=None, dashing=None, output_size=None), diagram=Primitive(shape=Path(points=Vec2Array([(0.0, 0.0), (4.18125, 0.0)]), arrow=False), style=Style(line_width=None, line_color=None, fill_color=None, fill_opacity=None, dashing=None, output_size=None), transform=Affine(-1.0, 0.0, 4.5,\n",
              "       0.0, -1.0, 1.75))))), diagram2=Compose(envelope=<chalk.envelope.Envelope object at 0x78e602f29240>, diagram1=Empty(), diagram2=ApplyTransform(transform=Affine(1.0, 0.0, 5.0,\n",
              "       0.0, 1.0, 1.75), diagram=ApplyStyle(style=Style(line_width=(<WidthType.NORMALIZED: 2>, 0.15), line_color=None, fill_color=None, fill_opacity=None, dashing=None, output_size=None), diagram=ApplyStyle(style=Style(line_width=None, line_color=<Color #af0>, fill_color=None, fill_opacity=None, dashing=None, output_size=None), diagram=ApplyStyle(style=Style(line_width=None, line_color=None, fill_color=None, fill_opacity=0, dashing=None, output_size=None), diagram=Primitive(shape=Rectangle(width=0.95, height=0.95, radius=None), style=Style(line_width=None, line_color=None, fill_color=None, fill_opacity=None, dashing=None, output_size=None), transform=Affine(1.0, 0.0, 0.0,\n",
              "       0.0, 1.0, 0.0)))))))), diagram2=Compose(envelope=<chalk.envelope.Envelope object at 0x78e602f2ab30>, diagram1=Empty(), diagram2=ApplyTransform(transform=Affine(1.0, 0.0, 0.31875,\n",
              "       0.0, 1.0, 1.75), diagram=ApplyStyle(style=Style(line_width=None, line_color=None, fill_color=<Color #af0>, fill_opacity=None, dashing=None, output_size=None), diagram=ApplyStyle(style=Style(line_width=(<WidthType.NORMALIZED: 2>, 0.04), line_color=None, fill_color=None, fill_opacity=None, dashing=None, output_size=None), diagram=Primitive(shape=Circle(radius=0.1), style=Style(line_width=None, line_color=None, fill_color=None, fill_opacity=None, dashing=None, output_size=None), transform=Affine(1.0, 0.0, 0.0,\n",
              "       0.0, 1.0, 0.0))))))))))), diagram2=ApplyTransform(transform=Affine(1.0, 0.0, -0.0,\n",
              "       0.0, 1.0, -3.0000999999999998), diagram=Compose(envelope=<chalk.envelope.Envelope object at 0x78e602f8ec20>, diagram1=Compose(envelope=<chalk.envelope.Envelope object at 0x78e602f280d0>, diagram1=Primitive(shape=Spacer(width=0, height=0.5), style=Style(line_width=None, line_color=None, fill_color=None, fill_opacity=None, dashing=None, output_size=None), transform=Affine(1.0, 0.0, 0.0,\n",
              "       0.0, 1.0, 0.0)), diagram2=ApplyTransform(transform=Affine(1.0, 0.0, 0.0,\n",
              "       0.0, 1.0, 0.25), diagram=ApplyStyle(style=Style(line_width=(<WidthType.NORMALIZED: 2>, 0), line_color=None, fill_color=None, fill_opacity=None, dashing=None, output_size=None), diagram=ApplyStyle(style=Style(line_width=None, line_color=None, fill_color=<Color black>, fill_opacity=None, dashing=None, output_size=None), diagram=Primitive(shape=Text(text='Block 0 0', font_size=0.5), style=Style(line_width=None, line_color=None, fill_color=None, fill_opacity=None, dashing=None, output_size=None), transform=Affine(1.0, 0.0, 0.0,\n",
              "       0.0, 1.0, 0.0)))))), diagram2=ApplyTransform(transform=Affine(1.0, 0.0, 0.0,\n",
              "       0.0, 1.0, 0.5001), diagram=Primitive(shape=Spacer(width=0, height=0.5), style=Style(line_width=None, line_color=None, fill_color=None, fill_opacity=None, dashing=None, output_size=None), transform=Affine(1.0, 0.0, 0.0,\n",
              "       0.0, 1.0, 0.0))))))))), diagram2=ApplyTransform(transform=Affine(1.0, 0.0, 7.0,\n",
              "       0.0, 1.0, 0.0), diagram=Primitive(shape=Spacer(width=1, height=0), style=Style(line_width=None, line_color=None, fill_color=None, fill_opacity=None, dashing=None, output_size=None), transform=Affine(1.0, 0.0, 0.0,\n",
              "       0.0, 1.0, 0.0))))), diagram2=Empty()), diagram2=ApplyStyle(style=Style(line_width=None, line_color=None, fill_color=None, fill_opacity=0.0, dashing=None, output_size=None), diagram=ApplyStyle(style=Style(line_width=None, line_color=<Color gray>, fill_color=None, fill_opacity=None, dashing=None, output_size=None), diagram=Primitive(shape=Rectangle(width=9.6, height=6.6001199999999995, radius=0.5), style=Style(line_width=None, line_color=None, fill_color=None, fill_opacity=None, dashing=None, output_size=None), transform=Affine(1.0, 0.0, 0.0,\n",
              "       0.0, 1.0, 0.0))))), diagram2=Empty())))))), diagram2=Empty())))"
            ],
            "image/svg+xml": "<?xml version=\"1.0\" encoding=\"utf-8\" ?>\n<svg baseProfile=\"full\" height=\"646.81276\" version=\"1.1\" width=\"580\" xmlns=\"http://www.w3.org/2000/svg\" xmlns:ev=\"http://www.w3.org/2001/xml-events\" xmlns:xlink=\"http://www.w3.org/1999/xlink\"><defs><marker id=\"arrow\" markerHeight=\"3.5\" markerWidth=\"5\" orient=\"auto\" refX=\"5.0\" refY=\"1.7\"><polygon points=\"0,0 5,1.75 0,3.5\" /></marker></defs><g style=\"fill:white;\"><g transform=\"matrix(1.0, 0.0, 0.0, 1.0, 290.0, 322.9609166666667)\"><g transform=\"matrix(47.55345664436573, 0.0, 0.0, 47.55345664436573, 0.0, 0.0)\"><g><g transform=\"matrix(1.0, 0.0, 0.0, 1.0, -0.0, -0.0)\"><g><g style=\"fill: #ffffff;stroke: black;stroke-width: 1.5;\" transform=\"matrix(1.0, 0.0, 0.0, 1.0, 0.0, 0.0)\"><rect height=\"12.936255200000002\" style=\"vector-effect: non-scaling-stroke;\" width=\"11.616000000000001\" x=\"-5.808000000000001\" y=\"-6.468127600000001\" /></g><g transform=\"matrix(1.0, 0.0, 0.0, 1.0, -0.0, -5.643127600000001)\"><g><g><g><g><g><g><g style=\"stroke: black;stroke-width: 1.5;\" transform=\"matrix(1.0, 0.0, 0.0, 1.0, 0.0, 0.0)\"><g /></g><g transform=\"matrix(1.0, 0.0, 0.0, 1.0, 0.0, 0.75)\"><g style=\"stroke: black;stroke-width: 1.5;\" transform=\"matrix(1.0, 0.0, 0.0, 1.0, 0.0, 0.0)\"><text style=\"text-align:center; text-anchor:middle; dominant-baseline:middle;font-family:sans-serif; font-weight: bold;font-size:1px;vector-effect: non-scaling-stroke;\" transform=\"translate(-5e-05, 0)\">Map</text></g></g></g><g transform=\"matrix(1.0, 0.0, 0.0, 1.0, 0.0, 1.2501)\"><g style=\"stroke: black;stroke-width: 1.5;\" transform=\"matrix(1.0, 0.0, 0.0, 1.0, 0.0, 0.0)\"><g /></g></g></g><g transform=\"matrix(1.0, 0.0, 0.0, 1.0, 0.0, 2.2500999999999998)\"><g transform=\"matrix(1.0, 0.0, 0.0, 1.0, -1.6500000000000001, -0.0)\"><g><g><g><g><g /><g transform=\"matrix(1.0, 0.0, 0.0, 1.0, 0.0, 0.0)\"><g><g style=\"fill: #ff0000;stroke: black;stroke-width: 1.5;fill-opacity: 0.7;\" transform=\"matrix(1.0, 0.0, 0.0, 1.0, 0.0, 0.0)\"><circle cx=\"0.0\" cy=\"0.0\" r=\"0.5\" style=\"vector-effect: non-scaling-stroke\" /></g><g style=\"stroke: black;stroke-width: 1.5;\" transform=\"matrix(0.0008333333333333334, 0.0, 0.0, 0.0008333333333333334, 0.0, 0.0)\"><image transform=\"translate(-600.0, -600.0)\" xlink:href=\"https://raw.githubusercontent.com/minitorch/diagrams/main/robot.png\" /></g></g></g></g><g transform=\"matrix(1.0, 0.0, 0.0, 1.0, 1.1, 0.0)\"><g><g style=\"fill: #ff7100;stroke: black;stroke-width: 1.5;fill-opacity: 0.7;\" transform=\"matrix(1.0, 0.0, 0.0, 1.0, 0.0, 0.0)\"><circle cx=\"0.0\" cy=\"0.0\" r=\"0.5\" style=\"vector-effect: non-scaling-stroke\" /></g><g style=\"stroke: black;stroke-width: 1.5;\" transform=\"matrix(0.0008333333333333334, 0.0, 0.0, 0.0008333333333333334, 0.0, 0.0)\"><image transform=\"translate(-600.0, -600.0)\" xlink:href=\"https://raw.githubusercontent.com/minitorch/diagrams/main/robot.png\" /></g></g></g></g><g transform=\"matrix(1.0, 0.0, 0.0, 1.0, 2.2, 0.0)\"><g><g style=\"fill: #ffe300;stroke: black;stroke-width: 1.5;fill-opacity: 0.7;\" transform=\"matrix(1.0, 0.0, 0.0, 1.0, 0.0, 0.0)\"><circle cx=\"0.0\" cy=\"0.0\" r=\"0.5\" style=\"vector-effect: non-scaling-stroke\" /></g><g style=\"stroke: black;stroke-width: 1.5;\" transform=\"matrix(0.0008333333333333334, 0.0, 0.0, 0.0008333333333333334, 0.0, 0.0)\"><image transform=\"translate(-600.0, -600.0)\" xlink:href=\"https://raw.githubusercontent.com/minitorch/diagrams/main/robot.png\" /></g></g></g></g><g transform=\"matrix(1.0, 0.0, 0.0, 1.0, 3.3000000000000003, 0.0)\"><g><g style=\"fill: #aaff00;stroke: black;stroke-width: 1.5;fill-opacity: 0.7;\" transform=\"matrix(1.0, 0.0, 0.0, 1.0, 0.0, 0.0)\"><circle cx=\"0.0\" cy=\"0.0\" r=\"0.5\" style=\"vector-effect: non-scaling-stroke\" /></g><g style=\"stroke: black;stroke-width: 1.5;\" transform=\"matrix(0.0008333333333333334, 0.0, 0.0, 0.0008333333333333334, 0.0, 0.0)\"><image transform=\"translate(-600.0, -600.0)\" xlink:href=\"https://raw.githubusercontent.com/minitorch/diagrams/main/robot.png\" /></g></g></g></g></g></g></g><g transform=\"matrix(1.0, 0.0, 0.0, 1.0, 0.0, 3.2500999999999998)\"><g style=\"stroke: black;stroke-width: 1.5;\" transform=\"matrix(1.0, 0.0, 0.0, 1.0, 0.0, 0.0)\"><g /></g></g></g><g transform=\"matrix(1.0, 0.0, 0.0, 1.0, 0.0, 7.380166)\"><g transform=\"matrix(1.0, 0.0, 0.0, 1.0, -0.0, -0.0)\"><g><g /><g transform=\"matrix(1.0, 0.0, 0.0, 1.0, 0.0, 0.0)\"><g><g><g><g transform=\"matrix(1.0, 0.0, 0.0, 1.0, -3.5, -0.0)\"><g><g><g style=\"stroke: black;stroke-width: 1.5;\" transform=\"matrix(1.0, 0.0, 0.0, 1.0, 0.0, 0.0)\"><g /></g><g transform=\"matrix(1.0, 0.0, 0.0, 1.0, 3.5, 0.0)\"><g transform=\"matrix(1.0, 0.0, 0.0, 1.0, -0.0, 0.5000499999999999)\"><g><g transform=\"matrix(1.0, 0.0, 0.0, 1.0, -2.5, -0.0)\"><g><g><g><g><g><g><g><g><g transform=\"matrix(1.0, 0.0, 0.0, 1.0, -0.0, 0.25)\"><g><g transform=\"matrix(1.0, 0.0, 0.0, 1.0, -0.0, -1.5)\"><g><g><g><g><g /><g><g style=\"stroke: black;stroke-width: 0.75;\" transform=\"matrix(1.0, 0.0, 0.0, 1.0, 0.0, 0.0)\"><rect height=\"1\" style=\"vector-effect: non-scaling-stroke;\" width=\"1\" x=\"-0.5\" y=\"-0.5\" /></g></g></g><g><g style=\"stroke: black;stroke-width: 0.75;\" transform=\"matrix(1.0, 0.0, 0.0, 1.0, 0.0, 1.0)\"><rect height=\"1\" style=\"vector-effect: non-scaling-stroke;\" width=\"1\" x=\"-0.5\" y=\"-0.5\" /></g></g></g><g><g style=\"stroke: black;stroke-width: 0.75;\" transform=\"matrix(1.0, 0.0, 0.0, 1.0, 0.0, 2.0)\"><rect height=\"1\" style=\"vector-effect: non-scaling-stroke;\" width=\"1\" x=\"-0.5\" y=\"-0.5\" /></g></g></g><g><g style=\"stroke: black;stroke-width: 0.75;\" transform=\"matrix(1.0, 0.0, 0.0, 1.0, 0.0, 3.0)\"><rect height=\"1\" style=\"vector-effect: non-scaling-stroke;\" width=\"1\" x=\"-0.5\" y=\"-0.5\" /></g></g></g></g><g transform=\"matrix(1.0, 0.0, 0.0, 1.0, -0.0, -2.25)\"><g><g style=\"fill: #000000;stroke: black;stroke-width: 0.0;\" transform=\"matrix(1.0, 0.0, 0.0, 1.0, 0.0, 0.0)\"><text style=\"text-align:center; text-anchor:middle; dominant-baseline:middle;font-family:sans-serif; font-weight: bold;font-size:0.5px;vector-effect: non-scaling-stroke;\" transform=\"translate(-5e-05, 0)\">a</text></g><g style=\"stroke: black;stroke-width: 1.5;\" transform=\"matrix(1.0, 0.0, 0.0, 1.0, 0.0, 0.0)\"><g /></g></g></g></g></g><g transform=\"matrix(1.0, 0.0, 0.0, 1.0, 1.5, 0.0)\"><g style=\"stroke: black;stroke-width: 1.5;\" transform=\"matrix(1.0, 0.0, 0.0, 1.0, 0.0, 0.0)\"><g /></g></g></g><g transform=\"matrix(1.0, 0.0, 0.0, 1.0, 2.5, 0.0)\"><g /></g></g><g transform=\"matrix(1.0, 0.0, 0.0, 1.0, 3.5, 0.0)\"><g style=\"stroke: black;stroke-width: 1.5;\" transform=\"matrix(1.0, 0.0, 0.0, 1.0, 0.0, 0.0)\"><g /></g></g></g><g transform=\"matrix(1.0, 0.0, 0.0, 1.0, 5.0, 0.0)\"><g transform=\"matrix(1.0, 0.0, 0.0, 1.0, -0.0, 0.25)\"><g><g transform=\"matrix(1.0, 0.0, 0.0, 1.0, -0.0, -1.5)\"><g><g><g><g><g /><g><g style=\"stroke: black;stroke-width: 0.75;\" transform=\"matrix(1.0, 0.0, 0.0, 1.0, 0.0, 0.0)\"><rect height=\"1\" style=\"vector-effect: non-scaling-stroke;\" width=\"1\" x=\"-0.5\" y=\"-0.5\" /></g></g></g><g><g style=\"stroke: black;stroke-width: 0.75;\" transform=\"matrix(1.0, 0.0, 0.0, 1.0, 0.0, 1.0)\"><rect height=\"1\" style=\"vector-effect: non-scaling-stroke;\" width=\"1\" x=\"-0.5\" y=\"-0.5\" /></g></g></g><g><g style=\"stroke: black;stroke-width: 0.75;\" transform=\"matrix(1.0, 0.0, 0.0, 1.0, 0.0, 2.0)\"><rect height=\"1\" style=\"vector-effect: non-scaling-stroke;\" width=\"1\" x=\"-0.5\" y=\"-0.5\" /></g></g></g><g><g style=\"stroke: black;stroke-width: 0.75;\" transform=\"matrix(1.0, 0.0, 0.0, 1.0, 0.0, 3.0)\"><rect height=\"1\" style=\"vector-effect: non-scaling-stroke;\" width=\"1\" x=\"-0.5\" y=\"-0.5\" /></g></g></g></g><g transform=\"matrix(1.0, 0.0, 0.0, 1.0, -0.0, -2.25)\"><g><g style=\"fill: #000000;stroke: black;stroke-width: 0.0;\" transform=\"matrix(1.0, 0.0, 0.0, 1.0, 0.0, 0.0)\"><text style=\"text-align:center; text-anchor:middle; dominant-baseline:middle;font-family:sans-serif; font-weight: bold;font-size:0.5px;vector-effect: non-scaling-stroke;\" transform=\"translate(-5e-05, 0)\">out</text></g><g style=\"stroke: black;stroke-width: 1.5;\" transform=\"matrix(1.0, 0.0, 0.0, 1.0, 0.0, 0.0)\"><g /></g></g></g></g></g></g></g><g><g><g /><g /></g><g><g /><g><g><g><g /><g style=\"stroke: #ff0000;stroke-width: 0.6;\" transform=\"matrix(-1.0, 0.0, 0.0, -1.0, 4.5, -1.25)\"><polyline points=\"0.0,0.0 4.81875,0.0\" style=\"vector-effect: non-scaling-stroke;\" /></g></g><g><g /><g transform=\"matrix(1.0, 0.0, 0.0, 1.0, 5.0, -1.25)\"><g style=\"stroke: #ff0000;stroke-width: 2.25;fill-opacity: 0;\" transform=\"matrix(1.0, 0.0, 0.0, 1.0, 0.0, 0.0)\"><rect height=\"0.95\" style=\"vector-effect: non-scaling-stroke;\" width=\"0.95\" x=\"-0.475\" y=\"-0.475\" /></g></g></g></g><g><g /><g transform=\"matrix(1.0, 0.0, 0.0, 1.0, -0.31875, -1.25)\"><g style=\"fill: #ff0000;stroke: black;stroke-width: 0.6;\" transform=\"matrix(1.0, 0.0, 0.0, 1.0, 0.0, 0.0)\"><circle cx=\"0.0\" cy=\"0.0\" r=\"0.1\" style=\"vector-effect: non-scaling-stroke\" /></g></g></g></g></g></g></g><g><g><g /><g /></g><g><g /><g><g><g><g /><g style=\"stroke: #ff7100;stroke-width: 0.6;\" transform=\"matrix(-1.0, 0.0, 0.0, -1.0, 4.5, -0.25)\"><polyline points=\"0.0,0.0 4.60625,0.0\" style=\"vector-effect: non-scaling-stroke;\" /></g></g><g><g /><g transform=\"matrix(1.0, 0.0, 0.0, 1.0, 5.0, -0.25)\"><g style=\"stroke: #ff7100;stroke-width: 2.25;fill-opacity: 0;\" transform=\"matrix(1.0, 0.0, 0.0, 1.0, 0.0, 0.0)\"><rect height=\"0.95\" style=\"vector-effect: non-scaling-stroke;\" width=\"0.95\" x=\"-0.475\" y=\"-0.475\" /></g></g></g></g><g><g /><g transform=\"matrix(1.0, 0.0, 0.0, 1.0, -0.10625, -0.25)\"><g style=\"fill: #ff7100;stroke: black;stroke-width: 0.6;\" transform=\"matrix(1.0, 0.0, 0.0, 1.0, 0.0, 0.0)\"><circle cx=\"0.0\" cy=\"0.0\" r=\"0.1\" style=\"vector-effect: non-scaling-stroke\" /></g></g></g></g></g></g></g><g><g><g /><g /></g><g><g /><g><g><g><g /><g style=\"stroke: #ffe300;stroke-width: 0.6;\" transform=\"matrix(-1.0, 0.0, 0.0, -1.0, 4.5, 0.75)\"><polyline points=\"0.0,0.0 4.39375,0.0\" style=\"vector-effect: non-scaling-stroke;\" /></g></g><g><g /><g transform=\"matrix(1.0, 0.0, 0.0, 1.0, 5.0, 0.75)\"><g style=\"stroke: #ffe300;stroke-width: 2.25;fill-opacity: 0;\" transform=\"matrix(1.0, 0.0, 0.0, 1.0, 0.0, 0.0)\"><rect height=\"0.95\" style=\"vector-effect: non-scaling-stroke;\" width=\"0.95\" x=\"-0.475\" y=\"-0.475\" /></g></g></g></g><g><g /><g transform=\"matrix(1.0, 0.0, 0.0, 1.0, 0.10625, 0.75)\"><g style=\"fill: #ffe300;stroke: black;stroke-width: 0.6;\" transform=\"matrix(1.0, 0.0, 0.0, 1.0, 0.0, 0.0)\"><circle cx=\"0.0\" cy=\"0.0\" r=\"0.1\" style=\"vector-effect: non-scaling-stroke\" /></g></g></g></g></g></g></g><g><g><g /><g /></g><g><g /><g><g><g><g /><g style=\"stroke: #aaff00;stroke-width: 0.6;\" transform=\"matrix(-1.0, 0.0, 0.0, -1.0, 4.5, 1.75)\"><polyline points=\"0.0,0.0 4.18125,0.0\" style=\"vector-effect: non-scaling-stroke;\" /></g></g><g><g /><g transform=\"matrix(1.0, 0.0, 0.0, 1.0, 5.0, 1.75)\"><g style=\"stroke: #aaff00;stroke-width: 2.25;fill-opacity: 0;\" transform=\"matrix(1.0, 0.0, 0.0, 1.0, 0.0, 0.0)\"><rect height=\"0.95\" style=\"vector-effect: non-scaling-stroke;\" width=\"0.95\" x=\"-0.475\" y=\"-0.475\" /></g></g></g></g><g><g /><g transform=\"matrix(1.0, 0.0, 0.0, 1.0, 0.31875, 1.75)\"><g style=\"fill: #aaff00;stroke: black;stroke-width: 0.6;\" transform=\"matrix(1.0, 0.0, 0.0, 1.0, 0.0, 0.0)\"><circle cx=\"0.0\" cy=\"0.0\" r=\"0.1\" style=\"vector-effect: non-scaling-stroke\" /></g></g></g></g></g></g></g></g><g transform=\"matrix(1.0, 0.0, 0.0, 1.0, -0.0, -3.0000999999999998)\"><g><g><g style=\"stroke: black;stroke-width: 1.5;\" transform=\"matrix(1.0, 0.0, 0.0, 1.0, 0.0, 0.0)\"><g /></g><g transform=\"matrix(1.0, 0.0, 0.0, 1.0, 0.0, 0.25)\"><g style=\"fill: #000000;stroke: black;stroke-width: 0.0;\" transform=\"matrix(1.0, 0.0, 0.0, 1.0, 0.0, 0.0)\"><text style=\"text-align:center; text-anchor:middle; dominant-baseline:middle;font-family:sans-serif; font-weight: bold;font-size:0.5px;vector-effect: non-scaling-stroke;\" transform=\"translate(-5e-05, 0)\">Block 0 0</text></g></g></g><g transform=\"matrix(1.0, 0.0, 0.0, 1.0, 0.0, 0.5001)\"><g style=\"stroke: black;stroke-width: 1.5;\" transform=\"matrix(1.0, 0.0, 0.0, 1.0, 0.0, 0.0)\"><g /></g></g></g></g></g></g></g></g><g transform=\"matrix(1.0, 0.0, 0.0, 1.0, 7.0, 0.0)\"><g style=\"stroke: black;stroke-width: 1.5;\" transform=\"matrix(1.0, 0.0, 0.0, 1.0, 0.0, 0.0)\"><g /></g></g></g></g><g /></g><g style=\"stroke: #808080;stroke-width: 1.5;fill-opacity: 0.0;\" transform=\"matrix(1.0, 0.0, 0.0, 1.0, 0.0, 0.0)\"><rect height=\"6.6001199999999995\" rx=\"0.5\" ry=\"0.5\" style=\"vector-effect: non-scaling-stroke;\" width=\"9.6\" x=\"-4.8\" y=\"-3.3000599999999998\" /></g></g><g /></g></g></g></g></g></g><g /></g></g></g></g><g /></g></g></g></g></svg>"
          },
          "metadata": {},
          "execution_count": 14
        }
      ],
      "source": [
        "def map_spec(a):\n",
        "    return a + 10\n",
        "\n",
        "\n",
        "def map_test(cuda):\n",
        "    def call(out, a) -> None:\n",
        "        local_i = cuda.threadIdx.x # which thread we are gonna use\n",
        "        out[local_i] = a[local_i] + 10\n",
        "\n",
        "\n",
        "    return call\n",
        "\n",
        "\n",
        "SIZE = 4\n",
        "out = np.zeros((SIZE,))\n",
        "a = np.arange(SIZE)\n",
        "problem = CudaProblem(\n",
        "    \"Map\", map_test, [a], out, threadsperblock=Coord(SIZE, 1), spec=map_spec\n",
        ")\n",
        "problem.show()"
      ]
    },
    {
      "cell_type": "code",
      "execution_count": 15,
      "id": "0a5520a6",
      "metadata": {
        "execution": {
          "iopub.execute_input": "2022-08-07T21:24:40.783843Z",
          "iopub.status.busy": "2022-08-07T21:24:40.783394Z",
          "iopub.status.idle": "2022-08-07T21:24:41.318965Z",
          "shell.execute_reply": "2022-08-07T21:24:41.318117Z"
        },
        "lines_to_end_of_cell_marker": 0,
        "lines_to_next_cell": 1,
        "id": "0a5520a6",
        "outputId": "c859b7d7-e8b0-49b5-c6cb-439d27df0c70",
        "colab": {
          "base_uri": "https://localhost:8080/",
          "height": 438
        }
      },
      "outputs": [
        {
          "output_type": "stream",
          "name": "stdout",
          "text": [
            "Passed Tests!\n"
          ]
        },
        {
          "output_type": "execute_result",
          "data": {
            "text/plain": [
              "<IPython.core.display.HTML object>"
            ],
            "text/html": [
              "\n",
              "            <video alt=\"test\" controls autoplay=1>\n",
              "                <source src=\"https://openpuppies.com/mp4/bRKfspn.mp4\"  type=\"video/mp4\">\n",
              "            </video>\n",
              "            "
            ]
          },
          "metadata": {},
          "execution_count": 15
        }
      ],
      "source": [
        "problem.check()"
      ]
    },
    {
      "cell_type": "markdown",
      "id": "59aecc28",
      "metadata": {
        "id": "59aecc28"
      },
      "source": [
        "## Puzzle 2 - Zip\n",
        "\n",
        "Implement a kernel that adds together each position of `a` and `b` and stores it in `out`.\n",
        "You have 1 thread per position."
      ]
    },
    {
      "cell_type": "code",
      "execution_count": 16,
      "id": "619b4208",
      "metadata": {
        "execution": {
          "iopub.execute_input": "2022-08-07T21:24:41.322974Z",
          "iopub.status.busy": "2022-08-07T21:24:41.322540Z",
          "iopub.status.idle": "2022-08-07T21:24:41.408046Z",
          "shell.execute_reply": "2022-08-07T21:24:41.407300Z"
        },
        "lines_to_next_cell": 0,
        "id": "619b4208",
        "outputId": "c4c8efb5-546a-4a75-a29c-d548b5aa4ed9",
        "colab": {
          "base_uri": "https://localhost:8080/",
          "height": 1000
        }
      },
      "outputs": [
        {
          "output_type": "stream",
          "name": "stdout",
          "text": [
            "# Zip\n",
            " \n",
            "   Score (Max Per Thread):\n",
            "   |  Global Reads | Global Writes |  Shared Reads | Shared Writes |\n",
            "   |             2 |             1 |             0 |             0 | \n",
            "\n"
          ]
        },
        {
          "output_type": "execute_result",
          "data": {
            "text/plain": [
              "Compose(envelope=<chalk.envelope.Envelope object at 0x78e5fa7b9c30>, diagram1=ApplyStyle(style=Style(line_width=None, line_color=None, fill_color=<Color white>, fill_opacity=None, dashing=None, output_size=None), diagram=Primitive(shape=Rectangle(width=11.616000000000001, height=22.3742552, radius=None), style=Style(line_width=None, line_color=None, fill_color=None, fill_opacity=None, dashing=None, output_size=None), transform=Affine(1.0, 0.0, 0.0,\n",
              "       0.0, 1.0, 0.0))), diagram2=ApplyTransform(transform=Affine(1.0, 0.0, -0.0,\n",
              "       0.0, 1.0, -10.3621276), diagram=Compose(envelope=<chalk.envelope.Envelope object at 0x78e5fa7b9660>, diagram1=Compose(envelope=<chalk.envelope.Envelope object at 0x78e5fa7b8e50>, diagram1=Compose(envelope=<chalk.envelope.Envelope object at 0x78e5fa7b8c40>, diagram1=Compose(envelope=<chalk.envelope.Envelope object at 0x78e5fa7b8700>, diagram1=Compose(envelope=<chalk.envelope.Envelope object at 0x78e5fa7b83d0>, diagram1=Compose(envelope=<chalk.envelope.Envelope object at 0x78e5fa825e40>, diagram1=Primitive(shape=Spacer(width=0, height=1.5), style=Style(line_width=None, line_color=None, fill_color=None, fill_opacity=None, dashing=None, output_size=None), transform=Affine(1.0, 0.0, 0.0,\n",
              "       0.0, 1.0, 0.0)), diagram2=ApplyTransform(transform=Affine(1.0, 0.0, 0.0,\n",
              "       0.0, 1.0, 0.75), diagram=Primitive(shape=Text(text='Zip', font_size=1), style=Style(line_width=None, line_color=None, fill_color=None, fill_opacity=None, dashing=None, output_size=None), transform=Affine(1.0, 0.0, 0.0,\n",
              "       0.0, 1.0, 0.0)))), diagram2=ApplyTransform(transform=Affine(1.0, 0.0, 0.0,\n",
              "       0.0, 1.0, 1.2501), diagram=Primitive(shape=Spacer(width=0, height=1), style=Style(line_width=None, line_color=None, fill_color=None, fill_opacity=None, dashing=None, output_size=None), transform=Affine(1.0, 0.0, 0.0,\n",
              "       0.0, 1.0, 0.0)))), diagram2=ApplyTransform(transform=Affine(1.0, 0.0, 0.0,\n",
              "       0.0, 1.0, 2.2500999999999998), diagram=ApplyTransform(transform=Affine(1.0, 0.0, -1.6500000000000001,\n",
              "       0.0, 1.0, -0.0), diagram=Compose(envelope=<chalk.envelope.Envelope object at 0x78e5fa825720>, diagram1=Compose(envelope=<chalk.envelope.Envelope object at 0x78e5fa825420>, diagram1=Compose(envelope=<chalk.envelope.Envelope object at 0x78e5fa825120>, diagram1=Compose(envelope=<chalk.envelope.Envelope object at 0x78e5fa824c70>, diagram1=Empty(), diagram2=ApplyTransform(transform=Affine(1.0, 0.0, 0.0,\n",
              "       0.0, 1.0, 0.0), diagram=Compose(envelope=<chalk.envelope.Envelope object at 0x78e5fa8277c0>, diagram1=ApplyStyle(style=Style(line_width=None, line_color=None, fill_color=None, fill_opacity=0.7, dashing=None, output_size=None), diagram=ApplyStyle(style=Style(line_width=None, line_color=None, fill_color=<Color red>, fill_opacity=None, dashing=None, output_size=None), diagram=Primitive(shape=Circle(radius=0.5), style=Style(line_width=None, line_color=None, fill_color=None, fill_opacity=None, dashing=None, output_size=None), transform=Affine(1.0, 0.0, 0.0,\n",
              "       0.0, 1.0, 0.0)))), diagram2=Primitive(shape=Image(local_path='robot.png', url_path='https://raw.githubusercontent.com/minitorch/diagrams/main/robot.png'), style=Style(line_width=None, line_color=None, fill_color=None, fill_opacity=None, dashing=None, output_size=None), transform=Affine(0.0008333333333333334, 0.0, 0.0,\n",
              "       0.0, 0.0008333333333333334, 0.0))))), diagram2=ApplyTransform(transform=Affine(1.0, 0.0, 1.1,\n",
              "       0.0, 1.0, 0.0), diagram=Compose(envelope=<chalk.envelope.Envelope object at 0x78e5fa827fa0>, diagram1=ApplyStyle(style=Style(line_width=None, line_color=None, fill_color=None, fill_opacity=0.7, dashing=None, output_size=None), diagram=ApplyStyle(style=Style(line_width=None, line_color=None, fill_color=<Color #ff7100>, fill_opacity=None, dashing=None, output_size=None), diagram=Primitive(shape=Circle(radius=0.5), style=Style(line_width=None, line_color=None, fill_color=None, fill_opacity=None, dashing=None, output_size=None), transform=Affine(1.0, 0.0, 0.0,\n",
              "       0.0, 1.0, 0.0)))), diagram2=Primitive(shape=Image(local_path='robot.png', url_path='https://raw.githubusercontent.com/minitorch/diagrams/main/robot.png'), style=Style(line_width=None, line_color=None, fill_color=None, fill_opacity=None, dashing=None, output_size=None), transform=Affine(0.0008333333333333334, 0.0, 0.0,\n",
              "       0.0, 0.0008333333333333334, 0.0))))), diagram2=ApplyTransform(transform=Affine(1.0, 0.0, 2.2,\n",
              "       0.0, 1.0, 0.0), diagram=Compose(envelope=<chalk.envelope.Envelope object at 0x78e5fa824640>, diagram1=ApplyStyle(style=Style(line_width=None, line_color=None, fill_color=None, fill_opacity=0.7, dashing=None, output_size=None), diagram=ApplyStyle(style=Style(line_width=None, line_color=None, fill_color=<Color #ffe300>, fill_opacity=None, dashing=None, output_size=None), diagram=Primitive(shape=Circle(radius=0.5), style=Style(line_width=None, line_color=None, fill_color=None, fill_opacity=None, dashing=None, output_size=None), transform=Affine(1.0, 0.0, 0.0,\n",
              "       0.0, 1.0, 0.0)))), diagram2=Primitive(shape=Image(local_path='robot.png', url_path='https://raw.githubusercontent.com/minitorch/diagrams/main/robot.png'), style=Style(line_width=None, line_color=None, fill_color=None, fill_opacity=None, dashing=None, output_size=None), transform=Affine(0.0008333333333333334, 0.0, 0.0,\n",
              "       0.0, 0.0008333333333333334, 0.0))))), diagram2=ApplyTransform(transform=Affine(1.0, 0.0, 3.3000000000000003,\n",
              "       0.0, 1.0, 0.0), diagram=Compose(envelope=<chalk.envelope.Envelope object at 0x78e5fa824df0>, diagram1=ApplyStyle(style=Style(line_width=None, line_color=None, fill_color=None, fill_opacity=0.7, dashing=None, output_size=None), diagram=ApplyStyle(style=Style(line_width=None, line_color=None, fill_color=<Color #af0>, fill_opacity=None, dashing=None, output_size=None), diagram=Primitive(shape=Circle(radius=0.5), style=Style(line_width=None, line_color=None, fill_color=None, fill_opacity=None, dashing=None, output_size=None), transform=Affine(1.0, 0.0, 0.0,\n",
              "       0.0, 1.0, 0.0)))), diagram2=Primitive(shape=Image(local_path='robot.png', url_path='https://raw.githubusercontent.com/minitorch/diagrams/main/robot.png'), style=Style(line_width=None, line_color=None, fill_color=None, fill_opacity=None, dashing=None, output_size=None), transform=Affine(0.0008333333333333334, 0.0, 0.0,\n",
              "       0.0, 0.0008333333333333334, 0.0)))))))), diagram2=ApplyTransform(transform=Affine(1.0, 0.0, 0.0,\n",
              "       0.0, 1.0, 3.2500999999999998), diagram=Primitive(shape=Spacer(width=0, height=1), style=Style(line_width=None, line_color=None, fill_color=None, fill_opacity=None, dashing=None, output_size=None), transform=Affine(1.0, 0.0, 0.0,\n",
              "       0.0, 1.0, 0.0)))), diagram2=ApplyTransform(transform=Affine(1.0, 0.0, 0.0,\n",
              "       0.0, 1.0, 11.670166), diagram=ApplyTransform(transform=Affine(1.0, 0.0, -0.0,\n",
              "       0.0, 1.0, -0.0), diagram=Compose(envelope=<chalk.envelope.Envelope object at 0x78e5fa826da0>, diagram1=Empty(), diagram2=ApplyTransform(transform=Affine(1.0, 0.0, 0.0,\n",
              "       0.0, 1.0, 0.0), diagram=Compose(envelope=<chalk.envelope.Envelope object at 0x78e5fa827040>, diagram1=Compose(envelope=<chalk.envelope.Envelope object at 0x78e5fa826bc0>, diagram1=Compose(envelope=<chalk.envelope.Envelope object at 0x78e5fa826170>, diagram1=ApplyTransform(transform=Affine(1.0, 0.0, -3.5,\n",
              "       0.0, 1.0, -0.0), diagram=Compose(envelope=<chalk.envelope.Envelope object at 0x78e5fa826350>, diagram1=Compose(envelope=<chalk.envelope.Envelope object at 0x78e5fa7e7e80>, diagram1=Primitive(shape=Spacer(width=1, height=0), style=Style(line_width=None, line_color=None, fill_color=None, fill_opacity=None, dashing=None, output_size=None), transform=Affine(1.0, 0.0, 0.0,\n",
              "       0.0, 1.0, 0.0)), diagram2=ApplyTransform(transform=Affine(1.0, 0.0, 3.5,\n",
              "       0.0, 1.0, 0.0), diagram=ApplyTransform(transform=Affine(1.0, 0.0, -0.0,\n",
              "       0.0, 1.0, 0.5000499999999999), diagram=Compose(envelope=<chalk.envelope.Envelope object at 0x78e5fa7e7a30>, diagram1=ApplyTransform(transform=Affine(1.0, 0.0, -2.5,\n",
              "       0.0, 1.0, -0.0), diagram=Compose(envelope=<chalk.envelope.Envelope object at 0x78e5fa7e66b0>, diagram1=Compose(envelope=<chalk.envelope.Envelope object at 0x78e5fa787370>, diagram1=Compose(envelope=<chalk.envelope.Envelope object at 0x78e5fa807f10>, diagram1=Compose(envelope=<chalk.envelope.Envelope object at 0x78e5fa8051e0>, diagram1=Compose(envelope=<chalk.envelope.Envelope object at 0x78e5fa7dd870>, diagram1=Compose(envelope=<chalk.envelope.Envelope object at 0x78e5fa7dd540>, diagram1=Compose(envelope=<chalk.envelope.Envelope object at 0x78e5fa7dcf10>, diagram1=Compose(envelope=<chalk.envelope.Envelope object at 0x78e5fa7dceb0>, diagram1=ApplyTransform(transform=Affine(1.0, 0.0, -0.0,\n",
              "       0.0, 1.0, -3.0), diagram=Compose(envelope=<chalk.envelope.Envelope object at 0x78e5fa6579a0>, diagram1=Compose(envelope=<chalk.envelope.Envelope object at 0x78e5fa656680>, diagram1=Compose(envelope=<chalk.envelope.Envelope object at 0x78e5fa97d390>, diagram1=ApplyStyle(style=Style(line_width=(<WidthType.NORMALIZED: 2>, 0.05), line_color=None, fill_color=None, fill_opacity=None, dashing=None, output_size=None), diagram=ApplyTransform(transform=Affine(1.0, 0.0, -0.0,\n",
              "       0.0, 1.0, -1.5), diagram=Compose(envelope=<chalk.envelope.Envelope object at 0x78e5fa97f9d0>, diagram1=Compose(envelope=<chalk.envelope.Envelope object at 0x78e5fa97d1b0>, diagram1=Compose(envelope=<chalk.envelope.Envelope object at 0x78e5fa97d150>, diagram1=Compose(envelope=<chalk.envelope.Envelope object at 0x78e5fa97f5e0>, diagram1=Empty(), diagram2=ApplyName(dname=('a', 0), diagram=Primitive(shape=Rectangle(width=1, height=1, radius=None), style=Style(line_width=None, line_color=None, fill_color=None, fill_opacity=None, dashing=None, output_size=None), transform=Affine(1.0, 0.0, 0.0,\n",
              "       0.0, 1.0, 0.0)))), diagram2=ApplyName(dname=('a', 1), diagram=Primitive(shape=Rectangle(width=1, height=1, radius=None), style=Style(line_width=None, line_color=None, fill_color=None, fill_opacity=None, dashing=None, output_size=None), transform=Affine(1.0, 0.0, 0.0,\n",
              "       0.0, 1.0, 1.0)))), diagram2=ApplyName(dname=('a', 2), diagram=Primitive(shape=Rectangle(width=1, height=1, radius=None), style=Style(line_width=None, line_color=None, fill_color=None, fill_opacity=None, dashing=None, output_size=None), transform=Affine(1.0, 0.0, 0.0,\n",
              "       0.0, 1.0, 2.0)))), diagram2=ApplyName(dname=('a', 3), diagram=Primitive(shape=Rectangle(width=1, height=1, radius=None), style=Style(line_width=None, line_color=None, fill_color=None, fill_opacity=None, dashing=None, output_size=None), transform=Affine(1.0, 0.0, 0.0,\n",
              "       0.0, 1.0, 3.0)))))), diagram2=ApplyTransform(transform=Affine(1.0, 0.0, -0.0,\n",
              "       0.0, 1.0, -2.25), diagram=Compose(envelope=<chalk.envelope.Envelope object at 0x78e5fa97df00>, diagram1=ApplyStyle(style=Style(line_width=(<WidthType.NORMALIZED: 2>, 0.0), line_color=None, fill_color=None, fill_opacity=None, dashing=None, output_size=None), diagram=ApplyStyle(style=Style(line_width=None, line_color=None, fill_color=<Color black>, fill_opacity=None, dashing=None, output_size=None), diagram=Primitive(shape=Text(text='a', font_size=0.5), style=Style(line_width=None, line_color=None, fill_color=None, fill_opacity=None, dashing=None, output_size=None), transform=Affine(1.0, 0.0, 0.0,\n",
              "       0.0, 1.0, 0.0)))), diagram2=Primitive(shape=Spacer(width=0, height=0.5), style=Style(line_width=None, line_color=None, fill_color=None, fill_opacity=None, dashing=None, output_size=None), transform=Affine(1.0, 0.0, 0.0,\n",
              "       0.0, 1.0, 0.0))))), diagram2=ApplyTransform(transform=Affine(1.0, 0.0, 0.0,\n",
              "       0.0, 1.0, 3.0), diagram=Primitive(shape=Spacer(width=2.0, height=0), style=Style(line_width=None, line_color=None, fill_color=None, fill_opacity=None, dashing=None, output_size=None), transform=Affine(0.0, 1.0, 0.0,\n",
              "       -1.0, 0.0, 0.0)))), diagram2=ApplyTransform(transform=Affine(1.0, 0.0, 0.0,\n",
              "       0.0, 1.0, 6.5), diagram=Compose(envelope=<chalk.envelope.Envelope object at 0x78e5fa6554e0>, diagram1=ApplyStyle(style=Style(line_width=(<WidthType.NORMALIZED: 2>, 0.05), line_color=None, fill_color=None, fill_opacity=None, dashing=None, output_size=None), diagram=ApplyTransform(transform=Affine(1.0, 0.0, -0.0,\n",
              "       0.0, 1.0, -1.5), diagram=Compose(envelope=<chalk.envelope.Envelope object at 0x78e5fa97d6f0>, diagram1=Compose(envelope=<chalk.envelope.Envelope object at 0x78e5fa7f01c0>, diagram1=Compose(envelope=<chalk.envelope.Envelope object at 0x78e5fa7f0880>, diagram1=Compose(envelope=<chalk.envelope.Envelope object at 0x78e5fa657700>, diagram1=Empty(), diagram2=ApplyName(dname=('b', 0), diagram=Primitive(shape=Rectangle(width=1, height=1, radius=None), style=Style(line_width=None, line_color=None, fill_color=None, fill_opacity=None, dashing=None, output_size=None), transform=Affine(1.0, 0.0, 0.0,\n",
              "       0.0, 1.0, 0.0)))), diagram2=ApplyName(dname=('b', 1), diagram=Primitive(shape=Rectangle(width=1, height=1, radius=None), style=Style(line_width=None, line_color=None, fill_color=None, fill_opacity=None, dashing=None, output_size=None), transform=Affine(1.0, 0.0, 0.0,\n",
              "       0.0, 1.0, 1.0)))), diagram2=ApplyName(dname=('b', 2), diagram=Primitive(shape=Rectangle(width=1, height=1, radius=None), style=Style(line_width=None, line_color=None, fill_color=None, fill_opacity=None, dashing=None, output_size=None), transform=Affine(1.0, 0.0, 0.0,\n",
              "       0.0, 1.0, 2.0)))), diagram2=ApplyName(dname=('b', 3), diagram=Primitive(shape=Rectangle(width=1, height=1, radius=None), style=Style(line_width=None, line_color=None, fill_color=None, fill_opacity=None, dashing=None, output_size=None), transform=Affine(1.0, 0.0, 0.0,\n",
              "       0.0, 1.0, 3.0)))))), diagram2=ApplyTransform(transform=Affine(1.0, 0.0, -0.0,\n",
              "       0.0, 1.0, -2.25), diagram=Compose(envelope=<chalk.envelope.Envelope object at 0x78e5fa655bd0>, diagram1=ApplyStyle(style=Style(line_width=(<WidthType.NORMALIZED: 2>, 0.0), line_color=None, fill_color=None, fill_opacity=None, dashing=None, output_size=None), diagram=ApplyStyle(style=Style(line_width=None, line_color=None, fill_color=<Color black>, fill_opacity=None, dashing=None, output_size=None), diagram=Primitive(shape=Text(text='b', font_size=0.5), style=Style(line_width=None, line_color=None, fill_color=None, fill_opacity=None, dashing=None, output_size=None), transform=Affine(1.0, 0.0, 0.0,\n",
              "       0.0, 1.0, 0.0)))), diagram2=Primitive(shape=Spacer(width=0, height=0.5), style=Style(line_width=None, line_color=None, fill_color=None, fill_opacity=None, dashing=None, output_size=None), transform=Affine(1.0, 0.0, 0.0,\n",
              "       0.0, 1.0, 0.0)))))))), diagram2=ApplyTransform(transform=Affine(1.0, 0.0, 1.5,\n",
              "       0.0, 1.0, 0.0), diagram=Primitive(shape=Spacer(width=2.0, height=0), style=Style(line_width=None, line_color=None, fill_color=None, fill_opacity=None, dashing=None, output_size=None), transform=Affine(1.0, 0.0, 0.0,\n",
              "       0.0, 1.0, 0.0)))), diagram2=ApplyTransform(transform=Affine(1.0, 0.0, 2.5,\n",
              "       0.0, 1.0, 0.0), diagram=Empty())), diagram2=ApplyTransform(transform=Affine(1.0, 0.0, 3.5,\n",
              "       0.0, 1.0, 0.0), diagram=Primitive(shape=Spacer(width=2.0, height=0), style=Style(line_width=None, line_color=None, fill_color=None, fill_opacity=None, dashing=None, output_size=None), transform=Affine(1.0, 0.0, 0.0,\n",
              "       0.0, 1.0, 0.0)))), diagram2=ApplyTransform(transform=Affine(1.0, 0.0, 5.0,\n",
              "       0.0, 1.0, 0.0), diagram=ApplyTransform(transform=Affine(1.0, 0.0, -0.0,\n",
              "       0.0, 1.0, 0.25), diagram=Compose(envelope=<chalk.envelope.Envelope object at 0x78e5fa7dc7f0>, diagram1=ApplyStyle(style=Style(line_width=(<WidthType.NORMALIZED: 2>, 0.05), line_color=None, fill_color=None, fill_opacity=None, dashing=None, output_size=None), diagram=ApplyTransform(transform=Affine(1.0, 0.0, -0.0,\n",
              "       0.0, 1.0, -1.5), diagram=Compose(envelope=<chalk.envelope.Envelope object at 0x78e602cb8910>, diagram1=Compose(envelope=<chalk.envelope.Envelope object at 0x78e5fa6564a0>, diagram1=Compose(envelope=<chalk.envelope.Envelope object at 0x78e5fa657370>, diagram1=Compose(envelope=<chalk.envelope.Envelope object at 0x78e5fa656b60>, diagram1=Empty(), diagram2=ApplyName(dname=('out', 0), diagram=Primitive(shape=Rectangle(width=1, height=1, radius=None), style=Style(line_width=None, line_color=None, fill_color=None, fill_opacity=None, dashing=None, output_size=None), transform=Affine(1.0, 0.0, 0.0,\n",
              "       0.0, 1.0, 0.0)))), diagram2=ApplyName(dname=('out', 1), diagram=Primitive(shape=Rectangle(width=1, height=1, radius=None), style=Style(line_width=None, line_color=None, fill_color=None, fill_opacity=None, dashing=None, output_size=None), transform=Affine(1.0, 0.0, 0.0,\n",
              "       0.0, 1.0, 1.0)))), diagram2=ApplyName(dname=('out', 2), diagram=Primitive(shape=Rectangle(width=1, height=1, radius=None), style=Style(line_width=None, line_color=None, fill_color=None, fill_opacity=None, dashing=None, output_size=None), transform=Affine(1.0, 0.0, 0.0,\n",
              "       0.0, 1.0, 2.0)))), diagram2=ApplyName(dname=('out', 3), diagram=Primitive(shape=Rectangle(width=1, height=1, radius=None), style=Style(line_width=None, line_color=None, fill_color=None, fill_opacity=None, dashing=None, output_size=None), transform=Affine(1.0, 0.0, 0.0,\n",
              "       0.0, 1.0, 3.0)))))), diagram2=ApplyTransform(transform=Affine(1.0, 0.0, -0.0,\n",
              "       0.0, 1.0, -2.25), diagram=Compose(envelope=<chalk.envelope.Envelope object at 0x78e5fa7dc400>, diagram1=ApplyStyle(style=Style(line_width=(<WidthType.NORMALIZED: 2>, 0.0), line_color=None, fill_color=None, fill_opacity=None, dashing=None, output_size=None), diagram=ApplyStyle(style=Style(line_width=None, line_color=None, fill_color=<Color black>, fill_opacity=None, dashing=None, output_size=None), diagram=Primitive(shape=Text(text='out', font_size=0.5), style=Style(line_width=None, line_color=None, fill_color=None, fill_opacity=None, dashing=None, output_size=None), transform=Affine(1.0, 0.0, 0.0,\n",
              "       0.0, 1.0, 0.0)))), diagram2=Primitive(shape=Spacer(width=0, height=0.5), style=Style(line_width=None, line_color=None, fill_color=None, fill_opacity=None, dashing=None, output_size=None), transform=Affine(1.0, 0.0, 0.0,\n",
              "       0.0, 1.0, 0.0)))))))), diagram2=Compose(envelope=<chalk.envelope.Envelope object at 0x78e5fa7dd6c0>, diagram1=Compose(envelope=<chalk.envelope.Envelope object at 0x78e5fa7dd660>, diagram1=Compose(envelope=<chalk.envelope.Envelope object at 0x78e5fa7dd720>, diagram1=Empty(), diagram2=Empty()), diagram2=Empty()), diagram2=Compose(envelope=<chalk.envelope.Envelope object at 0x78e5fa7ddc90>, diagram1=Compose(envelope=<chalk.envelope.Envelope object at 0x78e5fa7ddae0>, diagram1=Empty(), diagram2=Compose(envelope=<chalk.envelope.Envelope object at 0x78e5fa7df1f0>, diagram1=Compose(envelope=<chalk.envelope.Envelope object at 0x78e5fa7dea70>, diagram1=Compose(envelope=<chalk.envelope.Envelope object at 0x78e5fa7de260>, diagram1=Empty(), diagram2=ApplyStyle(style=Style(line_width=None, line_color=<Color red>, fill_color=None, fill_opacity=None, dashing=None, output_size=None), diagram=ApplyStyle(style=Style(line_width=(<WidthType.NORMALIZED: 2>, 0.04), line_color=None, fill_color=None, fill_opacity=None, dashing=None, output_size=None), diagram=Primitive(shape=Path(points=Vec2Array([(0.0, 0.0), (5.812301743930712, 0.0)]), arrow=False), style=Style(line_width=None, line_color=None, fill_color=None, fill_opacity=None, dashing=None, output_size=None), transform=Affine(-0.8290605361347263, 0.5591588570558462, 4.5,\n",
              "       -0.5591588570558462, -0.8290605361347263, -1.25))))), diagram2=Compose(envelope=<chalk.envelope.Envelope object at 0x78e5fa7de830>, diagram1=Empty(), diagram2=ApplyTransform(transform=Affine(1.0, 0.0, 5.0,\n",
              "       0.0, 1.0, -1.25), diagram=ApplyStyle(style=Style(line_width=(<WidthType.NORMALIZED: 2>, 0.15), line_color=None, fill_color=None, fill_opacity=None, dashing=None, output_size=None), diagram=ApplyStyle(style=Style(line_width=None, line_color=<Color red>, fill_color=None, fill_opacity=None, dashing=None, output_size=None), diagram=ApplyStyle(style=Style(line_width=None, line_color=None, fill_color=None, fill_opacity=0, dashing=None, output_size=None), diagram=Primitive(shape=Rectangle(width=0.95, height=0.95, radius=None), style=Style(line_width=None, line_color=None, fill_color=None, fill_opacity=None, dashing=None, output_size=None), transform=Affine(1.0, 0.0, 0.0,\n",
              "       0.0, 1.0, 0.0)))))))), diagram2=Compose(envelope=<chalk.envelope.Envelope object at 0x78e5fa7defb0>, diagram1=Empty(), diagram2=ApplyTransform(transform=Affine(1.0, 0.0, -0.31875,\n",
              "       0.0, 1.0, -4.5), diagram=ApplyStyle(style=Style(line_width=None, line_color=None, fill_color=<Color red>, fill_opacity=None, dashing=None, output_size=None), diagram=ApplyStyle(style=Style(line_width=(<WidthType.NORMALIZED: 2>, 0.04), line_color=None, fill_color=None, fill_opacity=None, dashing=None, output_size=None), diagram=Primitive(shape=Circle(radius=0.1), style=Style(line_width=None, line_color=None, fill_color=None, fill_opacity=None, dashing=None, output_size=None), transform=Affine(1.0, 0.0, 0.0,\n",
              "       0.0, 1.0, 0.0)))))))), diagram2=Compose(envelope=<chalk.envelope.Envelope object at 0x78e5fa805510>, diagram1=Compose(envelope=<chalk.envelope.Envelope object at 0x78e5fa7dff40>, diagram1=Compose(envelope=<chalk.envelope.Envelope object at 0x78e5fa7df730>, diagram1=Empty(), diagram2=ApplyStyle(style=Style(line_width=None, line_color=<Color red>, fill_color=None, fill_opacity=None, dashing=None, output_size=None), diagram=ApplyStyle(style=Style(line_width=(<WidthType.NORMALIZED: 2>, 0.04), line_color=None, fill_color=None, fill_opacity=None, dashing=None, output_size=None), diagram=Primitive(shape=Path(points=Vec2Array([(0.0, 0.0), (5.812301743930712, 0.0)]), arrow=False), style=Style(line_width=None, line_color=None, fill_color=None, fill_opacity=None, dashing=None, output_size=None), transform=Affine(-0.8290605361347262, -0.5591588570558463, 4.5,\n",
              "       0.5591588570558463, -0.8290605361347262, -1.25))))), diagram2=Compose(envelope=<chalk.envelope.Envelope object at 0x78e5fa7dfd00>, diagram1=Empty(), diagram2=ApplyTransform(transform=Affine(1.0, 0.0, 5.0,\n",
              "       0.0, 1.0, -1.25), diagram=ApplyStyle(style=Style(line_width=(<WidthType.NORMALIZED: 2>, 0.15), line_color=None, fill_color=None, fill_opacity=None, dashing=None, output_size=None), diagram=ApplyStyle(style=Style(line_width=None, line_color=<Color red>, fill_color=None, fill_opacity=None, dashing=None, output_size=None), diagram=ApplyStyle(style=Style(line_width=None, line_color=None, fill_color=None, fill_opacity=0, dashing=None, output_size=None), diagram=Primitive(shape=Rectangle(width=0.95, height=0.95, radius=None), style=Style(line_width=None, line_color=None, fill_color=None, fill_opacity=None, dashing=None, output_size=None), transform=Affine(1.0, 0.0, 0.0,\n",
              "       0.0, 1.0, 0.0)))))))), diagram2=Compose(envelope=<chalk.envelope.Envelope object at 0x78e5fa8056c0>, diagram1=Empty(), diagram2=ApplyTransform(transform=Affine(1.0, 0.0, -0.31875,\n",
              "       0.0, 1.0, 2.0), diagram=ApplyStyle(style=Style(line_width=None, line_color=None, fill_color=<Color red>, fill_opacity=None, dashing=None, output_size=None), diagram=ApplyStyle(style=Style(line_width=(<WidthType.NORMALIZED: 2>, 0.04), line_color=None, fill_color=None, fill_opacity=None, dashing=None, output_size=None), diagram=Primitive(shape=Circle(radius=0.1), style=Style(line_width=None, line_color=None, fill_color=None, fill_opacity=None, dashing=None, output_size=None), transform=Affine(1.0, 0.0, 0.0,\n",
              "       0.0, 1.0, 0.0)))))))))), diagram2=Compose(envelope=<chalk.envelope.Envelope object at 0x78e5fa804ca0>, diagram1=Compose(envelope=<chalk.envelope.Envelope object at 0x78e5fa805ed0>, diagram1=Compose(envelope=<chalk.envelope.Envelope object at 0x78e5fa805300>, diagram1=Empty(), diagram2=Empty()), diagram2=Empty()), diagram2=Compose(envelope=<chalk.envelope.Envelope object at 0x78e5fa8059c0>, diagram1=Compose(envelope=<chalk.envelope.Envelope object at 0x78e5fa805b40>, diagram1=Empty(), diagram2=Compose(envelope=<chalk.envelope.Envelope object at 0x78e5fa8066b0>, diagram1=Compose(envelope=<chalk.envelope.Envelope object at 0x78e5fa804dc0>, diagram1=Compose(envelope=<chalk.envelope.Envelope object at 0x78e5fa8047c0>, diagram1=Empty(), diagram2=ApplyStyle(style=Style(line_width=None, line_color=<Color #ff7100>, fill_color=None, fill_opacity=None, dashing=None, output_size=None), diagram=ApplyStyle(style=Style(line_width=(<WidthType.NORMALIZED: 2>, 0.04), line_color=None, fill_color=None, fill_opacity=None, dashing=None, output_size=None), diagram=Primitive(shape=Path(points=Vec2Array([(0.0, 0.0), (5.637378740381029, 0.0)]), arrow=False), style=Style(line_width=None, line_color=None, fill_color=None, fill_opacity=None, dashing=None, output_size=None), transform=Affine(-0.8170907459179628, 0.5765090744604348, 4.5,\n",
              "       -0.5765090744604348, -0.8170907459179628, -0.25))))), diagram2=Compose(envelope=<chalk.envelope.Envelope object at 0x78e5fa8040a0>, diagram1=Empty(), diagram2=ApplyTransform(transform=Affine(1.0, 0.0, 5.0,\n",
              "       0.0, 1.0, -0.25), diagram=ApplyStyle(style=Style(line_width=(<WidthType.NORMALIZED: 2>, 0.15), line_color=None, fill_color=None, fill_opacity=None, dashing=None, output_size=None), diagram=ApplyStyle(style=Style(line_width=None, line_color=<Color #ff7100>, fill_color=None, fill_opacity=None, dashing=None, output_size=None), diagram=ApplyStyle(style=Style(line_width=None, line_color=None, fill_color=None, fill_opacity=0, dashing=None, output_size=None), diagram=Primitive(shape=Rectangle(width=0.95, height=0.95, radius=None), style=Style(line_width=None, line_color=None, fill_color=None, fill_opacity=None, dashing=None, output_size=None), transform=Affine(1.0, 0.0, 0.0,\n",
              "       0.0, 1.0, 0.0)))))))), diagram2=Compose(envelope=<chalk.envelope.Envelope object at 0x78e5fa806470>, diagram1=Empty(), diagram2=ApplyTransform(transform=Affine(1.0, 0.0, -0.10625,\n",
              "       0.0, 1.0, -3.5), diagram=ApplyStyle(style=Style(line_width=None, line_color=None, fill_color=<Color #ff7100>, fill_opacity=None, dashing=None, output_size=None), diagram=ApplyStyle(style=Style(line_width=(<WidthType.NORMALIZED: 2>, 0.04), line_color=None, fill_color=None, fill_opacity=None, dashing=None, output_size=None), diagram=Primitive(shape=Circle(radius=0.1), style=Style(line_width=None, line_color=None, fill_color=None, fill_opacity=None, dashing=None, output_size=None), transform=Affine(1.0, 0.0, 0.0,\n",
              "       0.0, 1.0, 0.0)))))))), diagram2=Compose(envelope=<chalk.envelope.Envelope object at 0x78e5fa807b80>, diagram1=Compose(envelope=<chalk.envelope.Envelope object at 0x78e5fa807400>, diagram1=Compose(envelope=<chalk.envelope.Envelope object at 0x78e5fa806bf0>, diagram1=Empty(), diagram2=ApplyStyle(style=Style(line_width=None, line_color=<Color #ff7100>, fill_color=None, fill_opacity=None, dashing=None, output_size=None), diagram=ApplyStyle(style=Style(line_width=(<WidthType.NORMALIZED: 2>, 0.04), line_color=None, fill_color=None, fill_opacity=None, dashing=None, output_size=None), diagram=Primitive(shape=Path(points=Vec2Array([(0.0, 0.0), (5.637378740381029, 0.0)]), arrow=False), style=Style(line_width=None, line_color=None, fill_color=None, fill_opacity=None, dashing=None, output_size=None), transform=Affine(-0.8170907459179627, -0.5765090744604349, 4.5,\n",
              "       0.5765090744604349, -0.8170907459179627, -0.25))))), diagram2=Compose(envelope=<chalk.envelope.Envelope object at 0x78e5fa8071c0>, diagram1=Empty(), diagram2=ApplyTransform(transform=Affine(1.0, 0.0, 5.0,\n",
              "       0.0, 1.0, -0.25), diagram=ApplyStyle(style=Style(line_width=(<WidthType.NORMALIZED: 2>, 0.15), line_color=None, fill_color=None, fill_opacity=None, dashing=None, output_size=None), diagram=ApplyStyle(style=Style(line_width=None, line_color=<Color #ff7100>, fill_color=None, fill_opacity=None, dashing=None, output_size=None), diagram=ApplyStyle(style=Style(line_width=None, line_color=None, fill_color=None, fill_opacity=0, dashing=None, output_size=None), diagram=Primitive(shape=Rectangle(width=0.95, height=0.95, radius=None), style=Style(line_width=None, line_color=None, fill_color=None, fill_opacity=None, dashing=None, output_size=None), transform=Affine(1.0, 0.0, 0.0,\n",
              "       0.0, 1.0, 0.0)))))))), diagram2=Compose(envelope=<chalk.envelope.Envelope object at 0x78e5fa807940>, diagram1=Empty(), diagram2=ApplyTransform(transform=Affine(1.0, 0.0, -0.10625,\n",
              "       0.0, 1.0, 3.0), diagram=ApplyStyle(style=Style(line_width=None, line_color=None, fill_color=<Color #ff7100>, fill_opacity=None, dashing=None, output_size=None), diagram=ApplyStyle(style=Style(line_width=(<WidthType.NORMALIZED: 2>, 0.04), line_color=None, fill_color=None, fill_opacity=None, dashing=None, output_size=None), diagram=Primitive(shape=Circle(radius=0.1), style=Style(line_width=None, line_color=None, fill_color=None, fill_opacity=None, dashing=None, output_size=None), transform=Affine(1.0, 0.0, 0.0,\n",
              "       0.0, 1.0, 0.0)))))))))), diagram2=Compose(envelope=<chalk.envelope.Envelope object at 0x78e5fa784280>, diagram1=Compose(envelope=<chalk.envelope.Envelope object at 0x78e5fa7841c0>, diagram1=Compose(envelope=<chalk.envelope.Envelope object at 0x78e5fa7840d0>, diagram1=Empty(), diagram2=Empty()), diagram2=Empty()), diagram2=Compose(envelope=<chalk.envelope.Envelope object at 0x78e5fa784610>, diagram1=Compose(envelope=<chalk.envelope.Envelope object at 0x78e5fa784460>, diagram1=Empty(), diagram2=Compose(envelope=<chalk.envelope.Envelope object at 0x78e5fa785b10>, diagram1=Compose(envelope=<chalk.envelope.Envelope object at 0x78e5fa785390>, diagram1=Compose(envelope=<chalk.envelope.Envelope object at 0x78e5fa784b80>, diagram1=Empty(), diagram2=ApplyStyle(style=Style(line_width=None, line_color=<Color #ffe300>, fill_color=None, fill_opacity=None, dashing=None, output_size=None), diagram=ApplyStyle(style=Style(line_width=(<WidthType.NORMALIZED: 2>, 0.04), line_color=None, fill_color=None, fill_opacity=None, dashing=None, output_size=None), diagram=Primitive(shape=Path(points=Vec2Array([(0.0, 0.0), (5.4651202239749495, 0.0)]), arrow=False), style=Style(line_width=None, line_color=None, fill_color=None, fill_opacity=None, dashing=None, output_size=None), transform=Affine(-0.8039621856304364, 0.594680421803452, 4.5,\n",
              "       -0.594680421803452, -0.8039621856304364, 0.75))))), diagram2=Compose(envelope=<chalk.envelope.Envelope object at 0x78e5fa785150>, diagram1=Empty(), diagram2=ApplyTransform(transform=Affine(1.0, 0.0, 5.0,\n",
              "       0.0, 1.0, 0.75), diagram=ApplyStyle(style=Style(line_width=(<WidthType.NORMALIZED: 2>, 0.15), line_color=None, fill_color=None, fill_opacity=None, dashing=None, output_size=None), diagram=ApplyStyle(style=Style(line_width=None, line_color=<Color #ffe300>, fill_color=None, fill_opacity=None, dashing=None, output_size=None), diagram=ApplyStyle(style=Style(line_width=None, line_color=None, fill_color=None, fill_opacity=0, dashing=None, output_size=None), diagram=Primitive(shape=Rectangle(width=0.95, height=0.95, radius=None), style=Style(line_width=None, line_color=None, fill_color=None, fill_opacity=None, dashing=None, output_size=None), transform=Affine(1.0, 0.0, 0.0,\n",
              "       0.0, 1.0, 0.0)))))))), diagram2=Compose(envelope=<chalk.envelope.Envelope object at 0x78e5fa7858d0>, diagram1=Empty(), diagram2=ApplyTransform(transform=Affine(1.0, 0.0, 0.10625,\n",
              "       0.0, 1.0, -2.5), diagram=ApplyStyle(style=Style(line_width=None, line_color=None, fill_color=<Color #ffe300>, fill_opacity=None, dashing=None, output_size=None), diagram=ApplyStyle(style=Style(line_width=(<WidthType.NORMALIZED: 2>, 0.04), line_color=None, fill_color=None, fill_opacity=None, dashing=None, output_size=None), diagram=Primitive(shape=Circle(radius=0.1), style=Style(line_width=None, line_color=None, fill_color=None, fill_opacity=None, dashing=None, output_size=None), transform=Affine(1.0, 0.0, 0.0,\n",
              "       0.0, 1.0, 0.0)))))))), diagram2=Compose(envelope=<chalk.envelope.Envelope object at 0x78e5fa786fe0>, diagram1=Compose(envelope=<chalk.envelope.Envelope object at 0x78e5fa786860>, diagram1=Compose(envelope=<chalk.envelope.Envelope object at 0x78e5fa786050>, diagram1=Empty(), diagram2=ApplyStyle(style=Style(line_width=None, line_color=<Color #ffe300>, fill_color=None, fill_opacity=None, dashing=None, output_size=None), diagram=ApplyStyle(style=Style(line_width=(<WidthType.NORMALIZED: 2>, 0.04), line_color=None, fill_color=None, fill_opacity=None, dashing=None, output_size=None), diagram=Primitive(shape=Path(points=Vec2Array([(0.0, 0.0), (5.4651202239749495, 0.0)]), arrow=False), style=Style(line_width=None, line_color=None, fill_color=None, fill_opacity=None, dashing=None, output_size=None), transform=Affine(-0.8039621856304363, -0.5946804218034523, 4.5,\n",
              "       0.5946804218034523, -0.8039621856304363, 0.75))))), diagram2=Compose(envelope=<chalk.envelope.Envelope object at 0x78e5fa786620>, diagram1=Empty(), diagram2=ApplyTransform(transform=Affine(1.0, 0.0, 5.0,\n",
              "       0.0, 1.0, 0.75), diagram=ApplyStyle(style=Style(line_width=(<WidthType.NORMALIZED: 2>, 0.15), line_color=None, fill_color=None, fill_opacity=None, dashing=None, output_size=None), diagram=ApplyStyle(style=Style(line_width=None, line_color=<Color #ffe300>, fill_color=None, fill_opacity=None, dashing=None, output_size=None), diagram=ApplyStyle(style=Style(line_width=None, line_color=None, fill_color=None, fill_opacity=0, dashing=None, output_size=None), diagram=Primitive(shape=Rectangle(width=0.95, height=0.95, radius=None), style=Style(line_width=None, line_color=None, fill_color=None, fill_opacity=None, dashing=None, output_size=None), transform=Affine(1.0, 0.0, 0.0,\n",
              "       0.0, 1.0, 0.0)))))))), diagram2=Compose(envelope=<chalk.envelope.Envelope object at 0x78e5fa786da0>, diagram1=Empty(), diagram2=ApplyTransform(transform=Affine(1.0, 0.0, 0.10625,\n",
              "       0.0, 1.0, 4.0), diagram=ApplyStyle(style=Style(line_width=None, line_color=None, fill_color=<Color #ffe300>, fill_opacity=None, dashing=None, output_size=None), diagram=ApplyStyle(style=Style(line_width=(<WidthType.NORMALIZED: 2>, 0.04), line_color=None, fill_color=None, fill_opacity=None, dashing=None, output_size=None), diagram=Primitive(shape=Circle(radius=0.1), style=Style(line_width=None, line_color=None, fill_color=None, fill_opacity=None, dashing=None, output_size=None), transform=Affine(1.0, 0.0, 0.0,\n",
              "       0.0, 1.0, 0.0)))))))))), diagram2=Compose(envelope=<chalk.envelope.Envelope object at 0x78e5fa7876a0>, diagram1=Compose(envelope=<chalk.envelope.Envelope object at 0x78e5fa7875e0>, diagram1=Compose(envelope=<chalk.envelope.Envelope object at 0x78e5fa7874f0>, diagram1=Empty(), diagram2=Empty()), diagram2=Empty()), diagram2=Compose(envelope=<chalk.envelope.Envelope object at 0x78e5fa787a30>, diagram1=Compose(envelope=<chalk.envelope.Envelope object at 0x78e5fa787880>, diagram1=Empty(), diagram2=Compose(envelope=<chalk.envelope.Envelope object at 0x78e5fa7e4fd0>, diagram1=Compose(envelope=<chalk.envelope.Envelope object at 0x78e5fa7e4850>, diagram1=Compose(envelope=<chalk.envelope.Envelope object at 0x78e5fa7e4040>, diagram1=Empty(), diagram2=ApplyStyle(style=Style(line_width=None, line_color=<Color #af0>, fill_color=None, fill_opacity=None, dashing=None, output_size=None), diagram=ApplyStyle(style=Style(line_width=(<WidthType.NORMALIZED: 2>, 0.04), line_color=None, fill_color=None, fill_opacity=None, dashing=None, output_size=None), diagram=Primitive(shape=Path(points=Vec2Array([(0.0, 0.0), (5.295786208156444, 0.0)]), arrow=False), style=Style(line_width=None, line_color=None, fill_color=None, fill_opacity=None, dashing=None, output_size=None), transform=Affine(-0.7895428243610247, 0.6136954688605872, 4.5,\n",
              "       -0.6136954688605872, -0.7895428243610247, 1.75))))), diagram2=Compose(envelope=<chalk.envelope.Envelope object at 0x78e5fa7e4610>, diagram1=Empty(), diagram2=ApplyTransform(transform=Affine(1.0, 0.0, 5.0,\n",
              "       0.0, 1.0, 1.75), diagram=ApplyStyle(style=Style(line_width=(<WidthType.NORMALIZED: 2>, 0.15), line_color=None, fill_color=None, fill_opacity=None, dashing=None, output_size=None), diagram=ApplyStyle(style=Style(line_width=None, line_color=<Color #af0>, fill_color=None, fill_opacity=None, dashing=None, output_size=None), diagram=ApplyStyle(style=Style(line_width=None, line_color=None, fill_color=None, fill_opacity=0, dashing=None, output_size=None), diagram=Primitive(shape=Rectangle(width=0.95, height=0.95, radius=None), style=Style(line_width=None, line_color=None, fill_color=None, fill_opacity=None, dashing=None, output_size=None), transform=Affine(1.0, 0.0, 0.0,\n",
              "       0.0, 1.0, 0.0)))))))), diagram2=Compose(envelope=<chalk.envelope.Envelope object at 0x78e5fa7e4d90>, diagram1=Empty(), diagram2=ApplyTransform(transform=Affine(1.0, 0.0, 0.31875,\n",
              "       0.0, 1.0, -1.5), diagram=ApplyStyle(style=Style(line_width=None, line_color=None, fill_color=<Color #af0>, fill_opacity=None, dashing=None, output_size=None), diagram=ApplyStyle(style=Style(line_width=(<WidthType.NORMALIZED: 2>, 0.04), line_color=None, fill_color=None, fill_opacity=None, dashing=None, output_size=None), diagram=Primitive(shape=Circle(radius=0.1), style=Style(line_width=None, line_color=None, fill_color=None, fill_opacity=None, dashing=None, output_size=None), transform=Affine(1.0, 0.0, 0.0,\n",
              "       0.0, 1.0, 0.0)))))))), diagram2=Compose(envelope=<chalk.envelope.Envelope object at 0x78e5fa7e6320>, diagram1=Compose(envelope=<chalk.envelope.Envelope object at 0x78e5fa7e5d20>, diagram1=Compose(envelope=<chalk.envelope.Envelope object at 0x78e5fa7e5510>, diagram1=Empty(), diagram2=ApplyStyle(style=Style(line_width=None, line_color=<Color #af0>, fill_color=None, fill_opacity=None, dashing=None, output_size=None), diagram=ApplyStyle(style=Style(line_width=(<WidthType.NORMALIZED: 2>, 0.04), line_color=None, fill_color=None, fill_opacity=None, dashing=None, output_size=None), diagram=Primitive(shape=Path(points=Vec2Array([(0.0, 0.0), (5.295786208156444, 0.0)]), arrow=False), style=Style(line_width=None, line_color=None, fill_color=None, fill_opacity=None, dashing=None, output_size=None), transform=Affine(-0.789542824361025, -0.613695468860587, 4.5,\n",
              "       0.613695468860587, -0.789542824361025, 1.75))))), diagram2=Compose(envelope=<chalk.envelope.Envelope object at 0x78e5fa7e5ae0>, diagram1=Empty(), diagram2=ApplyTransform(transform=Affine(1.0, 0.0, 5.0,\n",
              "       0.0, 1.0, 1.75), diagram=ApplyStyle(style=Style(line_width=(<WidthType.NORMALIZED: 2>, 0.15), line_color=None, fill_color=None, fill_opacity=None, dashing=None, output_size=None), diagram=ApplyStyle(style=Style(line_width=None, line_color=<Color #af0>, fill_color=None, fill_opacity=None, dashing=None, output_size=None), diagram=ApplyStyle(style=Style(line_width=None, line_color=None, fill_color=None, fill_opacity=0, dashing=None, output_size=None), diagram=Primitive(shape=Rectangle(width=0.95, height=0.95, radius=None), style=Style(line_width=None, line_color=None, fill_color=None, fill_opacity=None, dashing=None, output_size=None), transform=Affine(1.0, 0.0, 0.0,\n",
              "       0.0, 1.0, 0.0)))))))), diagram2=Compose(envelope=<chalk.envelope.Envelope object at 0x78e5fa7e6260>, diagram1=Empty(), diagram2=ApplyTransform(transform=Affine(1.0, 0.0, 0.31875,\n",
              "       0.0, 1.0, 5.0), diagram=ApplyStyle(style=Style(line_width=None, line_color=None, fill_color=<Color #af0>, fill_opacity=None, dashing=None, output_size=None), diagram=ApplyStyle(style=Style(line_width=(<WidthType.NORMALIZED: 2>, 0.04), line_color=None, fill_color=None, fill_opacity=None, dashing=None, output_size=None), diagram=Primitive(shape=Circle(radius=0.1), style=Style(line_width=None, line_color=None, fill_color=None, fill_opacity=None, dashing=None, output_size=None), transform=Affine(1.0, 0.0, 0.0,\n",
              "       0.0, 1.0, 0.0))))))))))), diagram2=ApplyTransform(transform=Affine(1.0, 0.0, -0.0,\n",
              "       0.0, 1.0, -6.2501), diagram=Compose(envelope=<chalk.envelope.Envelope object at 0x78e5fa7e7400>, diagram1=Compose(envelope=<chalk.envelope.Envelope object at 0x78e5fa7e6e30>, diagram1=Primitive(shape=Spacer(width=0, height=0.5), style=Style(line_width=None, line_color=None, fill_color=None, fill_opacity=None, dashing=None, output_size=None), transform=Affine(1.0, 0.0, 0.0,\n",
              "       0.0, 1.0, 0.0)), diagram2=ApplyTransform(transform=Affine(1.0, 0.0, 0.0,\n",
              "       0.0, 1.0, 0.25), diagram=ApplyStyle(style=Style(line_width=(<WidthType.NORMALIZED: 2>, 0), line_color=None, fill_color=None, fill_opacity=None, dashing=None, output_size=None), diagram=ApplyStyle(style=Style(line_width=None, line_color=None, fill_color=<Color black>, fill_opacity=None, dashing=None, output_size=None), diagram=Primitive(shape=Text(text='Block 0 0', font_size=0.5), style=Style(line_width=None, line_color=None, fill_color=None, fill_opacity=None, dashing=None, output_size=None), transform=Affine(1.0, 0.0, 0.0,\n",
              "       0.0, 1.0, 0.0)))))), diagram2=ApplyTransform(transform=Affine(1.0, 0.0, 0.0,\n",
              "       0.0, 1.0, 0.5001), diagram=Primitive(shape=Spacer(width=0, height=0.5), style=Style(line_width=None, line_color=None, fill_color=None, fill_opacity=None, dashing=None, output_size=None), transform=Affine(1.0, 0.0, 0.0,\n",
              "       0.0, 1.0, 0.0))))))))), diagram2=ApplyTransform(transform=Affine(1.0, 0.0, 7.0,\n",
              "       0.0, 1.0, 0.0), diagram=Primitive(shape=Spacer(width=1, height=0), style=Style(line_width=None, line_color=None, fill_color=None, fill_opacity=None, dashing=None, output_size=None), transform=Affine(1.0, 0.0, 0.0,\n",
              "       0.0, 1.0, 0.0))))), diagram2=Empty()), diagram2=ApplyStyle(style=Style(line_width=None, line_color=None, fill_color=None, fill_opacity=0.0, dashing=None, output_size=None), diagram=ApplyStyle(style=Style(line_width=None, line_color=<Color gray>, fill_color=None, fill_opacity=None, dashing=None, output_size=None), diagram=Primitive(shape=Rectangle(width=9.6, height=14.40012, radius=0.5), style=Style(line_width=None, line_color=None, fill_color=None, fill_opacity=None, dashing=None, output_size=None), transform=Affine(1.0, 0.0, 0.0,\n",
              "       0.0, 1.0, 0.0))))), diagram2=Empty())))))), diagram2=Empty())))"
            ],
            "image/svg+xml": "<?xml version=\"1.0\" encoding=\"utf-8\" ?>\n<svg baseProfile=\"full\" height=\"1118.7127600000001\" version=\"1.1\" width=\"580\" xmlns=\"http://www.w3.org/2000/svg\" xmlns:ev=\"http://www.w3.org/2001/xml-events\" xmlns:xlink=\"http://www.w3.org/1999/xlink\"><defs><marker id=\"arrow\" markerHeight=\"3.5\" markerWidth=\"5\" orient=\"auto\" refX=\"5.0\" refY=\"1.7\"><polygon points=\"0,0 5,1.75 0,3.5\" /></marker></defs><g style=\"fill:white;\"><g transform=\"matrix(1.0, 0.0, 0.0, 1.0, 290.0, 558.5859166666667)\"><g transform=\"matrix(47.55345664436573, 0.0, 0.0, 47.55345664436573, 0.0, 0.0)\"><g><g transform=\"matrix(1.0, 0.0, 0.0, 1.0, -0.0, -0.0)\"><g><g style=\"fill: #ffffff;stroke: black;stroke-width: 1.5;\" transform=\"matrix(1.0, 0.0, 0.0, 1.0, 0.0, 0.0)\"><rect height=\"22.3742552\" style=\"vector-effect: non-scaling-stroke;\" width=\"11.616000000000001\" x=\"-5.808000000000001\" y=\"-11.1871276\" /></g><g transform=\"matrix(1.0, 0.0, 0.0, 1.0, -0.0, -10.3621276)\"><g><g><g><g><g><g><g style=\"stroke: black;stroke-width: 1.5;\" transform=\"matrix(1.0, 0.0, 0.0, 1.0, 0.0, 0.0)\"><g /></g><g transform=\"matrix(1.0, 0.0, 0.0, 1.0, 0.0, 0.75)\"><g style=\"stroke: black;stroke-width: 1.5;\" transform=\"matrix(1.0, 0.0, 0.0, 1.0, 0.0, 0.0)\"><text style=\"text-align:center; text-anchor:middle; dominant-baseline:middle;font-family:sans-serif; font-weight: bold;font-size:1px;vector-effect: non-scaling-stroke;\" transform=\"translate(-5e-05, 0)\">Zip</text></g></g></g><g transform=\"matrix(1.0, 0.0, 0.0, 1.0, 0.0, 1.2501)\"><g style=\"stroke: black;stroke-width: 1.5;\" transform=\"matrix(1.0, 0.0, 0.0, 1.0, 0.0, 0.0)\"><g /></g></g></g><g transform=\"matrix(1.0, 0.0, 0.0, 1.0, 0.0, 2.2500999999999998)\"><g transform=\"matrix(1.0, 0.0, 0.0, 1.0, -1.6500000000000001, -0.0)\"><g><g><g><g><g /><g transform=\"matrix(1.0, 0.0, 0.0, 1.0, 0.0, 0.0)\"><g><g style=\"fill: #ff0000;stroke: black;stroke-width: 1.5;fill-opacity: 0.7;\" transform=\"matrix(1.0, 0.0, 0.0, 1.0, 0.0, 0.0)\"><circle cx=\"0.0\" cy=\"0.0\" r=\"0.5\" style=\"vector-effect: non-scaling-stroke\" /></g><g style=\"stroke: black;stroke-width: 1.5;\" transform=\"matrix(0.0008333333333333334, 0.0, 0.0, 0.0008333333333333334, 0.0, 0.0)\"><image transform=\"translate(-600.0, -600.0)\" xlink:href=\"https://raw.githubusercontent.com/minitorch/diagrams/main/robot.png\" /></g></g></g></g><g transform=\"matrix(1.0, 0.0, 0.0, 1.0, 1.1, 0.0)\"><g><g style=\"fill: #ff7100;stroke: black;stroke-width: 1.5;fill-opacity: 0.7;\" transform=\"matrix(1.0, 0.0, 0.0, 1.0, 0.0, 0.0)\"><circle cx=\"0.0\" cy=\"0.0\" r=\"0.5\" style=\"vector-effect: non-scaling-stroke\" /></g><g style=\"stroke: black;stroke-width: 1.5;\" transform=\"matrix(0.0008333333333333334, 0.0, 0.0, 0.0008333333333333334, 0.0, 0.0)\"><image transform=\"translate(-600.0, -600.0)\" xlink:href=\"https://raw.githubusercontent.com/minitorch/diagrams/main/robot.png\" /></g></g></g></g><g transform=\"matrix(1.0, 0.0, 0.0, 1.0, 2.2, 0.0)\"><g><g style=\"fill: #ffe300;stroke: black;stroke-width: 1.5;fill-opacity: 0.7;\" transform=\"matrix(1.0, 0.0, 0.0, 1.0, 0.0, 0.0)\"><circle cx=\"0.0\" cy=\"0.0\" r=\"0.5\" style=\"vector-effect: non-scaling-stroke\" /></g><g style=\"stroke: black;stroke-width: 1.5;\" transform=\"matrix(0.0008333333333333334, 0.0, 0.0, 0.0008333333333333334, 0.0, 0.0)\"><image transform=\"translate(-600.0, -600.0)\" xlink:href=\"https://raw.githubusercontent.com/minitorch/diagrams/main/robot.png\" /></g></g></g></g><g transform=\"matrix(1.0, 0.0, 0.0, 1.0, 3.3000000000000003, 0.0)\"><g><g style=\"fill: #aaff00;stroke: black;stroke-width: 1.5;fill-opacity: 0.7;\" transform=\"matrix(1.0, 0.0, 0.0, 1.0, 0.0, 0.0)\"><circle cx=\"0.0\" cy=\"0.0\" r=\"0.5\" style=\"vector-effect: non-scaling-stroke\" /></g><g style=\"stroke: black;stroke-width: 1.5;\" transform=\"matrix(0.0008333333333333334, 0.0, 0.0, 0.0008333333333333334, 0.0, 0.0)\"><image transform=\"translate(-600.0, -600.0)\" xlink:href=\"https://raw.githubusercontent.com/minitorch/diagrams/main/robot.png\" /></g></g></g></g></g></g></g><g transform=\"matrix(1.0, 0.0, 0.0, 1.0, 0.0, 3.2500999999999998)\"><g style=\"stroke: black;stroke-width: 1.5;\" transform=\"matrix(1.0, 0.0, 0.0, 1.0, 0.0, 0.0)\"><g /></g></g></g><g transform=\"matrix(1.0, 0.0, 0.0, 1.0, 0.0, 11.670166)\"><g transform=\"matrix(1.0, 0.0, 0.0, 1.0, -0.0, -0.0)\"><g><g /><g transform=\"matrix(1.0, 0.0, 0.0, 1.0, 0.0, 0.0)\"><g><g><g><g transform=\"matrix(1.0, 0.0, 0.0, 1.0, -3.5, -0.0)\"><g><g><g style=\"stroke: black;stroke-width: 1.5;\" transform=\"matrix(1.0, 0.0, 0.0, 1.0, 0.0, 0.0)\"><g /></g><g transform=\"matrix(1.0, 0.0, 0.0, 1.0, 3.5, 0.0)\"><g transform=\"matrix(1.0, 0.0, 0.0, 1.0, -0.0, 0.5000499999999999)\"><g><g transform=\"matrix(1.0, 0.0, 0.0, 1.0, -2.5, -0.0)\"><g><g><g><g><g><g><g><g><g transform=\"matrix(1.0, 0.0, 0.0, 1.0, -0.0, -3.0)\"><g><g><g><g transform=\"matrix(1.0, 0.0, 0.0, 1.0, -0.0, -1.5)\"><g><g><g><g><g /><g><g style=\"stroke: black;stroke-width: 0.75;\" transform=\"matrix(1.0, 0.0, 0.0, 1.0, 0.0, 0.0)\"><rect height=\"1\" style=\"vector-effect: non-scaling-stroke;\" width=\"1\" x=\"-0.5\" y=\"-0.5\" /></g></g></g><g><g style=\"stroke: black;stroke-width: 0.75;\" transform=\"matrix(1.0, 0.0, 0.0, 1.0, 0.0, 1.0)\"><rect height=\"1\" style=\"vector-effect: non-scaling-stroke;\" width=\"1\" x=\"-0.5\" y=\"-0.5\" /></g></g></g><g><g style=\"stroke: black;stroke-width: 0.75;\" transform=\"matrix(1.0, 0.0, 0.0, 1.0, 0.0, 2.0)\"><rect height=\"1\" style=\"vector-effect: non-scaling-stroke;\" width=\"1\" x=\"-0.5\" y=\"-0.5\" /></g></g></g><g><g style=\"stroke: black;stroke-width: 0.75;\" transform=\"matrix(1.0, 0.0, 0.0, 1.0, 0.0, 3.0)\"><rect height=\"1\" style=\"vector-effect: non-scaling-stroke;\" width=\"1\" x=\"-0.5\" y=\"-0.5\" /></g></g></g></g><g transform=\"matrix(1.0, 0.0, 0.0, 1.0, -0.0, -2.25)\"><g><g style=\"fill: #000000;stroke: black;stroke-width: 0.0;\" transform=\"matrix(1.0, 0.0, 0.0, 1.0, 0.0, 0.0)\"><text style=\"text-align:center; text-anchor:middle; dominant-baseline:middle;font-family:sans-serif; font-weight: bold;font-size:0.5px;vector-effect: non-scaling-stroke;\" transform=\"translate(-5e-05, 0)\">a</text></g><g style=\"stroke: black;stroke-width: 1.5;\" transform=\"matrix(1.0, 0.0, 0.0, 1.0, 0.0, 0.0)\"><g /></g></g></g></g><g transform=\"matrix(1.0, 0.0, 0.0, 1.0, 0.0, 3.0)\"><g style=\"stroke: black;stroke-width: 1.5;\" transform=\"matrix(0.0, -1.0, 1.0, 0.0, 0.0, 0.0)\"><g /></g></g></g><g transform=\"matrix(1.0, 0.0, 0.0, 1.0, 0.0, 6.5)\"><g><g transform=\"matrix(1.0, 0.0, 0.0, 1.0, -0.0, -1.5)\"><g><g><g><g><g /><g><g style=\"stroke: black;stroke-width: 0.75;\" transform=\"matrix(1.0, 0.0, 0.0, 1.0, 0.0, 0.0)\"><rect height=\"1\" style=\"vector-effect: non-scaling-stroke;\" width=\"1\" x=\"-0.5\" y=\"-0.5\" /></g></g></g><g><g style=\"stroke: black;stroke-width: 0.75;\" transform=\"matrix(1.0, 0.0, 0.0, 1.0, 0.0, 1.0)\"><rect height=\"1\" style=\"vector-effect: non-scaling-stroke;\" width=\"1\" x=\"-0.5\" y=\"-0.5\" /></g></g></g><g><g style=\"stroke: black;stroke-width: 0.75;\" transform=\"matrix(1.0, 0.0, 0.0, 1.0, 0.0, 2.0)\"><rect height=\"1\" style=\"vector-effect: non-scaling-stroke;\" width=\"1\" x=\"-0.5\" y=\"-0.5\" /></g></g></g><g><g style=\"stroke: black;stroke-width: 0.75;\" transform=\"matrix(1.0, 0.0, 0.0, 1.0, 0.0, 3.0)\"><rect height=\"1\" style=\"vector-effect: non-scaling-stroke;\" width=\"1\" x=\"-0.5\" y=\"-0.5\" /></g></g></g></g><g transform=\"matrix(1.0, 0.0, 0.0, 1.0, -0.0, -2.25)\"><g><g style=\"fill: #000000;stroke: black;stroke-width: 0.0;\" transform=\"matrix(1.0, 0.0, 0.0, 1.0, 0.0, 0.0)\"><text style=\"text-align:center; text-anchor:middle; dominant-baseline:middle;font-family:sans-serif; font-weight: bold;font-size:0.5px;vector-effect: non-scaling-stroke;\" transform=\"translate(-5e-05, 0)\">b</text></g><g style=\"stroke: black;stroke-width: 1.5;\" transform=\"matrix(1.0, 0.0, 0.0, 1.0, 0.0, 0.0)\"><g /></g></g></g></g></g></g></g><g transform=\"matrix(1.0, 0.0, 0.0, 1.0, 1.5, 0.0)\"><g style=\"stroke: black;stroke-width: 1.5;\" transform=\"matrix(1.0, 0.0, 0.0, 1.0, 0.0, 0.0)\"><g /></g></g></g><g transform=\"matrix(1.0, 0.0, 0.0, 1.0, 2.5, 0.0)\"><g /></g></g><g transform=\"matrix(1.0, 0.0, 0.0, 1.0, 3.5, 0.0)\"><g style=\"stroke: black;stroke-width: 1.5;\" transform=\"matrix(1.0, 0.0, 0.0, 1.0, 0.0, 0.0)\"><g /></g></g></g><g transform=\"matrix(1.0, 0.0, 0.0, 1.0, 5.0, 0.0)\"><g transform=\"matrix(1.0, 0.0, 0.0, 1.0, -0.0, 0.25)\"><g><g transform=\"matrix(1.0, 0.0, 0.0, 1.0, -0.0, -1.5)\"><g><g><g><g><g /><g><g style=\"stroke: black;stroke-width: 0.75;\" transform=\"matrix(1.0, 0.0, 0.0, 1.0, 0.0, 0.0)\"><rect height=\"1\" style=\"vector-effect: non-scaling-stroke;\" width=\"1\" x=\"-0.5\" y=\"-0.5\" /></g></g></g><g><g style=\"stroke: black;stroke-width: 0.75;\" transform=\"matrix(1.0, 0.0, 0.0, 1.0, 0.0, 1.0)\"><rect height=\"1\" style=\"vector-effect: non-scaling-stroke;\" width=\"1\" x=\"-0.5\" y=\"-0.5\" /></g></g></g><g><g style=\"stroke: black;stroke-width: 0.75;\" transform=\"matrix(1.0, 0.0, 0.0, 1.0, 0.0, 2.0)\"><rect height=\"1\" style=\"vector-effect: non-scaling-stroke;\" width=\"1\" x=\"-0.5\" y=\"-0.5\" /></g></g></g><g><g style=\"stroke: black;stroke-width: 0.75;\" transform=\"matrix(1.0, 0.0, 0.0, 1.0, 0.0, 3.0)\"><rect height=\"1\" style=\"vector-effect: non-scaling-stroke;\" width=\"1\" x=\"-0.5\" y=\"-0.5\" /></g></g></g></g><g transform=\"matrix(1.0, 0.0, 0.0, 1.0, -0.0, -2.25)\"><g><g style=\"fill: #000000;stroke: black;stroke-width: 0.0;\" transform=\"matrix(1.0, 0.0, 0.0, 1.0, 0.0, 0.0)\"><text style=\"text-align:center; text-anchor:middle; dominant-baseline:middle;font-family:sans-serif; font-weight: bold;font-size:0.5px;vector-effect: non-scaling-stroke;\" transform=\"translate(-5e-05, 0)\">out</text></g><g style=\"stroke: black;stroke-width: 1.5;\" transform=\"matrix(1.0, 0.0, 0.0, 1.0, 0.0, 0.0)\"><g /></g></g></g></g></g></g></g><g><g><g><g /><g /></g><g /></g><g><g><g /><g><g><g><g /><g style=\"stroke: #ff0000;stroke-width: 0.6;\" transform=\"matrix(-0.8290605361347263, -0.5591588570558462, 0.5591588570558462, -0.8290605361347263, 4.5, -1.25)\"><polyline points=\"0.0,0.0 5.812301743930712,0.0\" style=\"vector-effect: non-scaling-stroke;\" /></g></g><g><g /><g transform=\"matrix(1.0, 0.0, 0.0, 1.0, 5.0, -1.25)\"><g style=\"stroke: #ff0000;stroke-width: 2.25;fill-opacity: 0;\" transform=\"matrix(1.0, 0.0, 0.0, 1.0, 0.0, 0.0)\"><rect height=\"0.95\" style=\"vector-effect: non-scaling-stroke;\" width=\"0.95\" x=\"-0.475\" y=\"-0.475\" /></g></g></g></g><g><g /><g transform=\"matrix(1.0, 0.0, 0.0, 1.0, -0.31875, -4.5)\"><g style=\"fill: #ff0000;stroke: black;stroke-width: 0.6;\" transform=\"matrix(1.0, 0.0, 0.0, 1.0, 0.0, 0.0)\"><circle cx=\"0.0\" cy=\"0.0\" r=\"0.1\" style=\"vector-effect: non-scaling-stroke\" /></g></g></g></g></g><g><g><g><g /><g style=\"stroke: #ff0000;stroke-width: 0.6;\" transform=\"matrix(-0.8290605361347262, 0.5591588570558463, -0.5591588570558463, -0.8290605361347262, 4.5, -1.25)\"><polyline points=\"0.0,0.0 5.812301743930712,0.0\" style=\"vector-effect: non-scaling-stroke;\" /></g></g><g><g /><g transform=\"matrix(1.0, 0.0, 0.0, 1.0, 5.0, -1.25)\"><g style=\"stroke: #ff0000;stroke-width: 2.25;fill-opacity: 0;\" transform=\"matrix(1.0, 0.0, 0.0, 1.0, 0.0, 0.0)\"><rect height=\"0.95\" style=\"vector-effect: non-scaling-stroke;\" width=\"0.95\" x=\"-0.475\" y=\"-0.475\" /></g></g></g></g><g><g /><g transform=\"matrix(1.0, 0.0, 0.0, 1.0, -0.31875, 2.0)\"><g style=\"fill: #ff0000;stroke: black;stroke-width: 0.6;\" transform=\"matrix(1.0, 0.0, 0.0, 1.0, 0.0, 0.0)\"><circle cx=\"0.0\" cy=\"0.0\" r=\"0.1\" style=\"vector-effect: non-scaling-stroke\" /></g></g></g></g></g></g></g><g><g><g><g /><g /></g><g /></g><g><g><g /><g><g><g><g /><g style=\"stroke: #ff7100;stroke-width: 0.6;\" transform=\"matrix(-0.8170907459179628, -0.5765090744604348, 0.5765090744604348, -0.8170907459179628, 4.5, -0.25)\"><polyline points=\"0.0,0.0 5.637378740381029,0.0\" style=\"vector-effect: non-scaling-stroke;\" /></g></g><g><g /><g transform=\"matrix(1.0, 0.0, 0.0, 1.0, 5.0, -0.25)\"><g style=\"stroke: #ff7100;stroke-width: 2.25;fill-opacity: 0;\" transform=\"matrix(1.0, 0.0, 0.0, 1.0, 0.0, 0.0)\"><rect height=\"0.95\" style=\"vector-effect: non-scaling-stroke;\" width=\"0.95\" x=\"-0.475\" y=\"-0.475\" /></g></g></g></g><g><g /><g transform=\"matrix(1.0, 0.0, 0.0, 1.0, -0.10625, -3.5)\"><g style=\"fill: #ff7100;stroke: black;stroke-width: 0.6;\" transform=\"matrix(1.0, 0.0, 0.0, 1.0, 0.0, 0.0)\"><circle cx=\"0.0\" cy=\"0.0\" r=\"0.1\" style=\"vector-effect: non-scaling-stroke\" /></g></g></g></g></g><g><g><g><g /><g style=\"stroke: #ff7100;stroke-width: 0.6;\" transform=\"matrix(-0.8170907459179627, 0.5765090744604349, -0.5765090744604349, -0.8170907459179627, 4.5, -0.25)\"><polyline points=\"0.0,0.0 5.637378740381029,0.0\" style=\"vector-effect: non-scaling-stroke;\" /></g></g><g><g /><g transform=\"matrix(1.0, 0.0, 0.0, 1.0, 5.0, -0.25)\"><g style=\"stroke: #ff7100;stroke-width: 2.25;fill-opacity: 0;\" transform=\"matrix(1.0, 0.0, 0.0, 1.0, 0.0, 0.0)\"><rect height=\"0.95\" style=\"vector-effect: non-scaling-stroke;\" width=\"0.95\" x=\"-0.475\" y=\"-0.475\" /></g></g></g></g><g><g /><g transform=\"matrix(1.0, 0.0, 0.0, 1.0, -0.10625, 3.0)\"><g style=\"fill: #ff7100;stroke: black;stroke-width: 0.6;\" transform=\"matrix(1.0, 0.0, 0.0, 1.0, 0.0, 0.0)\"><circle cx=\"0.0\" cy=\"0.0\" r=\"0.1\" style=\"vector-effect: non-scaling-stroke\" /></g></g></g></g></g></g></g><g><g><g><g /><g /></g><g /></g><g><g><g /><g><g><g><g /><g style=\"stroke: #ffe300;stroke-width: 0.6;\" transform=\"matrix(-0.8039621856304364, -0.594680421803452, 0.594680421803452, -0.8039621856304364, 4.5, 0.75)\"><polyline points=\"0.0,0.0 5.4651202239749495,0.0\" style=\"vector-effect: non-scaling-stroke;\" /></g></g><g><g /><g transform=\"matrix(1.0, 0.0, 0.0, 1.0, 5.0, 0.75)\"><g style=\"stroke: #ffe300;stroke-width: 2.25;fill-opacity: 0;\" transform=\"matrix(1.0, 0.0, 0.0, 1.0, 0.0, 0.0)\"><rect height=\"0.95\" style=\"vector-effect: non-scaling-stroke;\" width=\"0.95\" x=\"-0.475\" y=\"-0.475\" /></g></g></g></g><g><g /><g transform=\"matrix(1.0, 0.0, 0.0, 1.0, 0.10625, -2.5)\"><g style=\"fill: #ffe300;stroke: black;stroke-width: 0.6;\" transform=\"matrix(1.0, 0.0, 0.0, 1.0, 0.0, 0.0)\"><circle cx=\"0.0\" cy=\"0.0\" r=\"0.1\" style=\"vector-effect: non-scaling-stroke\" /></g></g></g></g></g><g><g><g><g /><g style=\"stroke: #ffe300;stroke-width: 0.6;\" transform=\"matrix(-0.8039621856304363, 0.5946804218034523, -0.5946804218034523, -0.8039621856304363, 4.5, 0.75)\"><polyline points=\"0.0,0.0 5.4651202239749495,0.0\" style=\"vector-effect: non-scaling-stroke;\" /></g></g><g><g /><g transform=\"matrix(1.0, 0.0, 0.0, 1.0, 5.0, 0.75)\"><g style=\"stroke: #ffe300;stroke-width: 2.25;fill-opacity: 0;\" transform=\"matrix(1.0, 0.0, 0.0, 1.0, 0.0, 0.0)\"><rect height=\"0.95\" style=\"vector-effect: non-scaling-stroke;\" width=\"0.95\" x=\"-0.475\" y=\"-0.475\" /></g></g></g></g><g><g /><g transform=\"matrix(1.0, 0.0, 0.0, 1.0, 0.10625, 4.0)\"><g style=\"fill: #ffe300;stroke: black;stroke-width: 0.6;\" transform=\"matrix(1.0, 0.0, 0.0, 1.0, 0.0, 0.0)\"><circle cx=\"0.0\" cy=\"0.0\" r=\"0.1\" style=\"vector-effect: non-scaling-stroke\" /></g></g></g></g></g></g></g><g><g><g><g /><g /></g><g /></g><g><g><g /><g><g><g><g /><g style=\"stroke: #aaff00;stroke-width: 0.6;\" transform=\"matrix(-0.7895428243610247, -0.6136954688605872, 0.6136954688605872, -0.7895428243610247, 4.5, 1.75)\"><polyline points=\"0.0,0.0 5.295786208156444,0.0\" style=\"vector-effect: non-scaling-stroke;\" /></g></g><g><g /><g transform=\"matrix(1.0, 0.0, 0.0, 1.0, 5.0, 1.75)\"><g style=\"stroke: #aaff00;stroke-width: 2.25;fill-opacity: 0;\" transform=\"matrix(1.0, 0.0, 0.0, 1.0, 0.0, 0.0)\"><rect height=\"0.95\" style=\"vector-effect: non-scaling-stroke;\" width=\"0.95\" x=\"-0.475\" y=\"-0.475\" /></g></g></g></g><g><g /><g transform=\"matrix(1.0, 0.0, 0.0, 1.0, 0.31875, -1.5)\"><g style=\"fill: #aaff00;stroke: black;stroke-width: 0.6;\" transform=\"matrix(1.0, 0.0, 0.0, 1.0, 0.0, 0.0)\"><circle cx=\"0.0\" cy=\"0.0\" r=\"0.1\" style=\"vector-effect: non-scaling-stroke\" /></g></g></g></g></g><g><g><g><g /><g style=\"stroke: #aaff00;stroke-width: 0.6;\" transform=\"matrix(-0.789542824361025, 0.613695468860587, -0.613695468860587, -0.789542824361025, 4.5, 1.75)\"><polyline points=\"0.0,0.0 5.295786208156444,0.0\" style=\"vector-effect: non-scaling-stroke;\" /></g></g><g><g /><g transform=\"matrix(1.0, 0.0, 0.0, 1.0, 5.0, 1.75)\"><g style=\"stroke: #aaff00;stroke-width: 2.25;fill-opacity: 0;\" transform=\"matrix(1.0, 0.0, 0.0, 1.0, 0.0, 0.0)\"><rect height=\"0.95\" style=\"vector-effect: non-scaling-stroke;\" width=\"0.95\" x=\"-0.475\" y=\"-0.475\" /></g></g></g></g><g><g /><g transform=\"matrix(1.0, 0.0, 0.0, 1.0, 0.31875, 5.0)\"><g style=\"fill: #aaff00;stroke: black;stroke-width: 0.6;\" transform=\"matrix(1.0, 0.0, 0.0, 1.0, 0.0, 0.0)\"><circle cx=\"0.0\" cy=\"0.0\" r=\"0.1\" style=\"vector-effect: non-scaling-stroke\" /></g></g></g></g></g></g></g></g><g transform=\"matrix(1.0, 0.0, 0.0, 1.0, -0.0, -6.2501)\"><g><g><g style=\"stroke: black;stroke-width: 1.5;\" transform=\"matrix(1.0, 0.0, 0.0, 1.0, 0.0, 0.0)\"><g /></g><g transform=\"matrix(1.0, 0.0, 0.0, 1.0, 0.0, 0.25)\"><g style=\"fill: #000000;stroke: black;stroke-width: 0.0;\" transform=\"matrix(1.0, 0.0, 0.0, 1.0, 0.0, 0.0)\"><text style=\"text-align:center; text-anchor:middle; dominant-baseline:middle;font-family:sans-serif; font-weight: bold;font-size:0.5px;vector-effect: non-scaling-stroke;\" transform=\"translate(-5e-05, 0)\">Block 0 0</text></g></g></g><g transform=\"matrix(1.0, 0.0, 0.0, 1.0, 0.0, 0.5001)\"><g style=\"stroke: black;stroke-width: 1.5;\" transform=\"matrix(1.0, 0.0, 0.0, 1.0, 0.0, 0.0)\"><g /></g></g></g></g></g></g></g></g><g transform=\"matrix(1.0, 0.0, 0.0, 1.0, 7.0, 0.0)\"><g style=\"stroke: black;stroke-width: 1.5;\" transform=\"matrix(1.0, 0.0, 0.0, 1.0, 0.0, 0.0)\"><g /></g></g></g></g><g /></g><g style=\"stroke: #808080;stroke-width: 1.5;fill-opacity: 0.0;\" transform=\"matrix(1.0, 0.0, 0.0, 1.0, 0.0, 0.0)\"><rect height=\"14.40012\" rx=\"0.5\" ry=\"0.5\" style=\"vector-effect: non-scaling-stroke;\" width=\"9.6\" x=\"-4.8\" y=\"-7.20006\" /></g></g><g /></g></g></g></g></g></g><g /></g></g></g></g><g /></g></g></g></g></svg>"
          },
          "metadata": {},
          "execution_count": 16
        }
      ],
      "source": [
        "def zip_spec(a, b):\n",
        "    return a + b\n",
        "\n",
        "\n",
        "def zip_test(cuda):\n",
        "    def call(out, a, b) -> None:\n",
        "        local_i = cuda.threadIdx.x\n",
        "        out[local_i] = a[local_i] + b[local_i]\n",
        "\n",
        "    return call\n",
        "\n",
        "\n",
        "SIZE = 4\n",
        "out = np.zeros((SIZE,))\n",
        "a = np.arange(SIZE)\n",
        "b = np.arange(SIZE)\n",
        "problem = CudaProblem(\n",
        "    \"Zip\", zip_test, [a, b], out, threadsperblock=Coord(SIZE, 1), spec=zip_spec\n",
        ")\n",
        "problem.show()"
      ]
    },
    {
      "cell_type": "code",
      "execution_count": null,
      "id": "93ddda39",
      "metadata": {
        "id": "93ddda39"
      },
      "outputs": [],
      "source": []
    },
    {
      "cell_type": "code",
      "execution_count": 17,
      "id": "f5037564",
      "metadata": {
        "execution": {
          "iopub.execute_input": "2022-08-07T21:24:41.411997Z",
          "iopub.status.busy": "2022-08-07T21:24:41.411569Z",
          "iopub.status.idle": "2022-08-07T21:24:41.450428Z",
          "shell.execute_reply": "2022-08-07T21:24:41.449609Z"
        },
        "lines_to_end_of_cell_marker": 0,
        "lines_to_next_cell": 1,
        "id": "f5037564",
        "outputId": "0307b599-bd80-4c1d-a04f-8b28ea759c12",
        "colab": {
          "base_uri": "https://localhost:8080/",
          "height": 442
        }
      },
      "outputs": [
        {
          "output_type": "stream",
          "name": "stdout",
          "text": [
            "Passed Tests!\n"
          ]
        },
        {
          "output_type": "execute_result",
          "data": {
            "text/plain": [
              "<IPython.core.display.HTML object>"
            ],
            "text/html": [
              "\n",
              "            <video alt=\"test\" controls autoplay=1>\n",
              "                <source src=\"https://openpuppies.com/mp4/lvzRF3W.mp4\"  type=\"video/mp4\">\n",
              "            </video>\n",
              "            "
            ]
          },
          "metadata": {},
          "execution_count": 17
        }
      ],
      "source": [
        "problem.check()"
      ]
    },
    {
      "cell_type": "markdown",
      "id": "bb90ab5b",
      "metadata": {
        "id": "bb90ab5b"
      },
      "source": [
        "## Puzzle 3 - Guards\n",
        "\n",
        "Implement a kernel that adds 10 to each position of `a` and stores it in `out`.\n",
        "You have more threads than positions."
      ]
    },
    {
      "cell_type": "code",
      "execution_count": 19,
      "id": "f5c83704",
      "metadata": {
        "execution": {
          "iopub.execute_input": "2022-08-07T21:24:41.454648Z",
          "iopub.status.busy": "2022-08-07T21:24:41.454179Z",
          "iopub.status.idle": "2022-08-07T21:24:41.527083Z",
          "shell.execute_reply": "2022-08-07T21:24:41.526268Z"
        },
        "id": "f5c83704",
        "outputId": "61211ba6-185b-4276-827f-d1bc80a15c92",
        "colab": {
          "base_uri": "https://localhost:8080/",
          "height": 316
        }
      },
      "outputs": [
        {
          "output_type": "error",
          "ename": "IndexError",
          "evalue": "index 4 is out of bounds for axis 0 with size 4",
          "traceback": [
            "\u001b[0;31m---------------------------------------------------------------------------\u001b[0m",
            "\u001b[0;31mIndexError\u001b[0m                                Traceback (most recent call last)",
            "\u001b[0;32m<ipython-input-19-8adab4bb451e>\u001b[0m in \u001b[0;36m<cell line: 22>\u001b[0;34m()\u001b[0m\n\u001b[1;32m     20\u001b[0m     \u001b[0mspec\u001b[0m\u001b[0;34m=\u001b[0m\u001b[0mmap_spec\u001b[0m\u001b[0;34m,\u001b[0m\u001b[0;34m\u001b[0m\u001b[0;34m\u001b[0m\u001b[0m\n\u001b[1;32m     21\u001b[0m )\n\u001b[0;32m---> 22\u001b[0;31m \u001b[0mproblem\u001b[0m\u001b[0;34m.\u001b[0m\u001b[0mshow\u001b[0m\u001b[0;34m(\u001b[0m\u001b[0;34m)\u001b[0m\u001b[0;34m\u001b[0m\u001b[0;34m\u001b[0m\u001b[0m\n\u001b[0m",
            "\u001b[0;32m/content/lib.py\u001b[0m in \u001b[0;36mshow\u001b[0;34m(self, sparse)\u001b[0m\n\u001b[1;32m    392\u001b[0m \u001b[0;34m\u001b[0m\u001b[0m\n\u001b[1;32m    393\u001b[0m     \u001b[0;32mdef\u001b[0m \u001b[0mshow\u001b[0m\u001b[0;34m(\u001b[0m\u001b[0mself\u001b[0m\u001b[0;34m,\u001b[0m \u001b[0msparse\u001b[0m\u001b[0;34m=\u001b[0m\u001b[0;32mFalse\u001b[0m\u001b[0;34m)\u001b[0m\u001b[0;34m:\u001b[0m\u001b[0;34m\u001b[0m\u001b[0;34m\u001b[0m\u001b[0m\n\u001b[0;32m--> 394\u001b[0;31m         \u001b[0mresults\u001b[0m \u001b[0;34m=\u001b[0m \u001b[0mself\u001b[0m\u001b[0;34m.\u001b[0m\u001b[0mrun_python\u001b[0m\u001b[0;34m(\u001b[0m\u001b[0;34m)\u001b[0m\u001b[0;34m\u001b[0m\u001b[0;34m\u001b[0m\u001b[0m\n\u001b[0m\u001b[1;32m    395\u001b[0m         \u001b[0mself\u001b[0m\u001b[0;34m.\u001b[0m\u001b[0mscore\u001b[0m\u001b[0;34m(\u001b[0m\u001b[0mresults\u001b[0m\u001b[0;34m)\u001b[0m\u001b[0;34m\u001b[0m\u001b[0;34m\u001b[0m\u001b[0m\n\u001b[1;32m    396\u001b[0m         return draw_results(results, self.name,\n",
            "\u001b[0;32m/content/lib.py\u001b[0m in \u001b[0;36mrun_python\u001b[0;34m(self)\u001b[0m\n\u001b[1;32m    358\u001b[0m \u001b[0;34m\u001b[0m\u001b[0m\n\u001b[1;32m    359\u001b[0m                 \u001b[0mc\u001b[0m \u001b[0;34m=\u001b[0m \u001b[0mCuda\u001b[0m\u001b[0;34m(\u001b[0m\u001b[0mblock\u001b[0m\u001b[0;34m,\u001b[0m \u001b[0mself\u001b[0m\u001b[0;34m.\u001b[0m\u001b[0mthreadsperblock\u001b[0m\u001b[0;34m,\u001b[0m \u001b[0mpos\u001b[0m\u001b[0;34m)\u001b[0m\u001b[0;34m\u001b[0m\u001b[0;34m\u001b[0m\u001b[0m\n\u001b[0;32m--> 360\u001b[0;31m                 \u001b[0mfn\u001b[0m\u001b[0;34m(\u001b[0m\u001b[0mc\u001b[0m\u001b[0;34m)\u001b[0m\u001b[0;34m(\u001b[0m\u001b[0mout\u001b[0m\u001b[0;34m,\u001b[0m \u001b[0;34m*\u001b[0m\u001b[0ma\u001b[0m\u001b[0;34m,\u001b[0m \u001b[0;34m*\u001b[0m\u001b[0mself\u001b[0m\u001b[0;34m.\u001b[0m\u001b[0margs\u001b[0m\u001b[0;34m)\u001b[0m\u001b[0;34m\u001b[0m\u001b[0;34m\u001b[0m\u001b[0m\n\u001b[0m\u001b[1;32m    361\u001b[0m                 \u001b[0mc\u001b[0m\u001b[0;34m.\u001b[0m\u001b[0mfinish\u001b[0m\u001b[0;34m(\u001b[0m\u001b[0;34m)\u001b[0m\u001b[0;34m\u001b[0m\u001b[0;34m\u001b[0m\u001b[0m\n\u001b[1;32m    362\u001b[0m                 \u001b[0mresults\u001b[0m\u001b[0;34m[\u001b[0m\u001b[0mblock\u001b[0m\u001b[0;34m]\u001b[0m\u001b[0;34m[\u001b[0m\u001b[0mpos\u001b[0m\u001b[0;34m]\u001b[0m \u001b[0;34m=\u001b[0m  \u001b[0;34m(\u001b[0m\u001b[0mtt\u001b[0m\u001b[0;34m,\u001b[0m \u001b[0ma\u001b[0m\u001b[0;34m,\u001b[0m \u001b[0mc\u001b[0m\u001b[0;34m,\u001b[0m \u001b[0mout\u001b[0m\u001b[0;34m)\u001b[0m\u001b[0;34m\u001b[0m\u001b[0;34m\u001b[0m\u001b[0m\n",
            "\u001b[0;32m<ipython-input-19-8adab4bb451e>\u001b[0m in \u001b[0;36mcall\u001b[0;34m(out, a, size)\u001b[0m\n\u001b[1;32m      3\u001b[0m         \u001b[0mlocal_i\u001b[0m \u001b[0;34m=\u001b[0m \u001b[0mcuda\u001b[0m\u001b[0;34m.\u001b[0m\u001b[0mthreadIdx\u001b[0m\u001b[0;34m.\u001b[0m\u001b[0mx\u001b[0m\u001b[0;34m\u001b[0m\u001b[0;34m\u001b[0m\u001b[0m\n\u001b[1;32m      4\u001b[0m         \u001b[0;31m# if a.size < size:\u001b[0m\u001b[0;34m\u001b[0m\u001b[0;34m\u001b[0m\u001b[0m\n\u001b[0;32m----> 5\u001b[0;31m         \u001b[0mout\u001b[0m\u001b[0;34m[\u001b[0m\u001b[0mlocal_i\u001b[0m\u001b[0;34m]\u001b[0m \u001b[0;34m=\u001b[0m \u001b[0ma\u001b[0m\u001b[0;34m[\u001b[0m\u001b[0mlocal_i\u001b[0m\u001b[0;34m]\u001b[0m \u001b[0;34m+\u001b[0m \u001b[0;36m10\u001b[0m\u001b[0;34m\u001b[0m\u001b[0;34m\u001b[0m\u001b[0m\n\u001b[0m\u001b[1;32m      6\u001b[0m \u001b[0;34m\u001b[0m\u001b[0m\n\u001b[1;32m      7\u001b[0m     \u001b[0;32mreturn\u001b[0m \u001b[0mcall\u001b[0m\u001b[0;34m\u001b[0m\u001b[0;34m\u001b[0m\u001b[0m\n",
            "\u001b[0;32m/content/lib.py\u001b[0m in \u001b[0;36m__getitem__\u001b[0;34m(self, index)\u001b[0m\n\u001b[1;32m     60\u001b[0m \u001b[0;34m\u001b[0m\u001b[0m\n\u001b[1;32m     61\u001b[0m     \u001b[0;32mdef\u001b[0m \u001b[0m__getitem__\u001b[0m\u001b[0;34m(\u001b[0m\u001b[0mself\u001b[0m\u001b[0;34m,\u001b[0m \u001b[0mindex\u001b[0m\u001b[0;34m)\u001b[0m\u001b[0;34m:\u001b[0m\u001b[0;34m\u001b[0m\u001b[0;34m\u001b[0m\u001b[0m\n\u001b[0;32m---> 62\u001b[0;31m         \u001b[0mself\u001b[0m\u001b[0;34m.\u001b[0m\u001b[0marray\u001b[0m\u001b[0;34m[\u001b[0m\u001b[0mindex\u001b[0m\u001b[0;34m]\u001b[0m\u001b[0;34m\u001b[0m\u001b[0;34m\u001b[0m\u001b[0m\n\u001b[0m\u001b[1;32m     63\u001b[0m         \u001b[0;32mif\u001b[0m \u001b[0misinstance\u001b[0m\u001b[0;34m(\u001b[0m\u001b[0mindex\u001b[0m\u001b[0;34m,\u001b[0m \u001b[0mint\u001b[0m\u001b[0;34m)\u001b[0m\u001b[0;34m:\u001b[0m\u001b[0;34m\u001b[0m\u001b[0;34m\u001b[0m\u001b[0m\n\u001b[1;32m     64\u001b[0m             \u001b[0mindex\u001b[0m \u001b[0;34m=\u001b[0m \u001b[0;34m(\u001b[0m\u001b[0mindex\u001b[0m\u001b[0;34m,\u001b[0m\u001b[0;34m)\u001b[0m\u001b[0;34m\u001b[0m\u001b[0;34m\u001b[0m\u001b[0m\n",
            "\u001b[0;31mIndexError\u001b[0m: index 4 is out of bounds for axis 0 with size 4"
          ]
        }
      ],
      "source": [
        "def map_guard_test(cuda):\n",
        "    def call(out, a, size) -> None:\n",
        "        local_i = cuda.threadIdx.x\n",
        "        if a.size < size:\n",
        "          out[local_i] = a[local_i] + 10\n",
        "\n",
        "    return call\n",
        "\n",
        "\n",
        "SIZE = 4\n",
        "out = np.zeros((SIZE,))\n",
        "a = np.arange(SIZE)\n",
        "problem = CudaProblem(\n",
        "    \"Guard\",\n",
        "    map_guard_test,\n",
        "    [a],\n",
        "    out,\n",
        "    [SIZE],\n",
        "    threadsperblock=Coord(8, 1),\n",
        "    spec=map_spec,\n",
        ")\n",
        "problem.show()"
      ]
    },
    {
      "cell_type": "code",
      "execution_count": null,
      "id": "2e34629f",
      "metadata": {
        "execution": {
          "iopub.execute_input": "2022-08-07T21:24:41.530990Z",
          "iopub.status.busy": "2022-08-07T21:24:41.530541Z",
          "iopub.status.idle": "2022-08-07T21:24:41.561067Z",
          "shell.execute_reply": "2022-08-07T21:24:41.560144Z"
        },
        "lines_to_end_of_cell_marker": 0,
        "lines_to_next_cell": 1,
        "id": "2e34629f"
      },
      "outputs": [],
      "source": [
        "problem.check()"
      ]
    },
    {
      "cell_type": "markdown",
      "id": "ec33ed08",
      "metadata": {
        "id": "ec33ed08"
      },
      "source": [
        "## Puzzle 4 - Map 2D\n",
        "\n",
        "Implement a kernel that adds 10 to each position of `a` and stores it in `out`.\n",
        "Input `a` is 2D and square. You have more threads than positions."
      ]
    },
    {
      "cell_type": "code",
      "execution_count": null,
      "id": "75d5eff5",
      "metadata": {
        "execution": {
          "iopub.execute_input": "2022-08-07T21:24:41.565190Z",
          "iopub.status.busy": "2022-08-07T21:24:41.564731Z",
          "iopub.status.idle": "2022-08-07T21:24:41.639943Z",
          "shell.execute_reply": "2022-08-07T21:24:41.639094Z"
        },
        "id": "75d5eff5"
      },
      "outputs": [],
      "source": [
        "def map_2D_test(cuda):\n",
        "    def call(out, a, size) -> None:\n",
        "        local_i = cuda.threadIdx.x\n",
        "        local_j = cuda.threadIdx.y\n",
        "        # FILL ME IN (roughly 2 lines)\n",
        "\n",
        "    return call\n",
        "\n",
        "\n",
        "SIZE = 2\n",
        "out = np.zeros((SIZE, SIZE))\n",
        "a = np.arange(SIZE * SIZE).reshape((SIZE, SIZE))\n",
        "problem = CudaProblem(\n",
        "    \"Map 2D\", map_2D_test, [a], out, [SIZE], threadsperblock=Coord(3, 3), spec=map_spec\n",
        ")\n",
        "problem.show()"
      ]
    },
    {
      "cell_type": "code",
      "execution_count": null,
      "id": "ed777631",
      "metadata": {
        "execution": {
          "iopub.execute_input": "2022-08-07T21:24:41.643707Z",
          "iopub.status.busy": "2022-08-07T21:24:41.643280Z",
          "iopub.status.idle": "2022-08-07T21:24:41.675212Z",
          "shell.execute_reply": "2022-08-07T21:24:41.674350Z"
        },
        "lines_to_end_of_cell_marker": 0,
        "lines_to_next_cell": 1,
        "id": "ed777631"
      },
      "outputs": [],
      "source": [
        "problem.check()"
      ]
    },
    {
      "cell_type": "markdown",
      "id": "bdcfd649",
      "metadata": {
        "id": "bdcfd649"
      },
      "source": [
        "## Puzzle 5 - Broadcast\n",
        "\n",
        "Implement a kernel that adds `a` and `b` and stores it in `out`.\n",
        "Inputs `a` and `b` are vectors. You have more threads than positions."
      ]
    },
    {
      "cell_type": "code",
      "execution_count": null,
      "id": "123e664b",
      "metadata": {
        "execution": {
          "iopub.execute_input": "2022-08-07T21:24:41.679242Z",
          "iopub.status.busy": "2022-08-07T21:24:41.678801Z",
          "iopub.status.idle": "2022-08-07T21:24:41.759781Z",
          "shell.execute_reply": "2022-08-07T21:24:41.758930Z"
        },
        "id": "123e664b"
      },
      "outputs": [],
      "source": [
        "def broadcast_test(cuda):\n",
        "    def call(out, a, b, size) -> None:\n",
        "        local_i = cuda.threadIdx.x\n",
        "        local_j = cuda.threadIdx.y\n",
        "        # FILL ME IN (roughly 2 lines)\n",
        "\n",
        "    return call\n",
        "\n",
        "\n",
        "SIZE = 2\n",
        "out = np.zeros((SIZE, SIZE))\n",
        "a = np.arange(SIZE).reshape(SIZE, 1)\n",
        "b = np.arange(SIZE).reshape(1, SIZE)\n",
        "problem = CudaProblem(\n",
        "    \"Broadcast\",\n",
        "    broadcast_test,\n",
        "    [a, b],\n",
        "    out,\n",
        "    [SIZE],\n",
        "    threadsperblock=Coord(3, 3),\n",
        "    spec=zip_spec,\n",
        ")\n",
        "problem.show()"
      ]
    },
    {
      "cell_type": "code",
      "execution_count": null,
      "id": "f25686b3",
      "metadata": {
        "execution": {
          "iopub.execute_input": "2022-08-07T21:24:41.763601Z",
          "iopub.status.busy": "2022-08-07T21:24:41.763153Z",
          "iopub.status.idle": "2022-08-07T21:24:41.798938Z",
          "shell.execute_reply": "2022-08-07T21:24:41.798139Z"
        },
        "lines_to_end_of_cell_marker": 0,
        "lines_to_next_cell": 1,
        "id": "f25686b3"
      },
      "outputs": [],
      "source": [
        "problem.check()"
      ]
    },
    {
      "cell_type": "markdown",
      "id": "e9c3173e",
      "metadata": {
        "id": "e9c3173e"
      },
      "source": [
        "## Puzzle 6 - Blocks\n",
        "\n",
        "Implement a kernel that adds 10 to each position of `a` and stores it in `out`.\n",
        "You have fewer threads per block than the size of `a`."
      ]
    },
    {
      "cell_type": "markdown",
      "id": "9dd3affc",
      "metadata": {
        "id": "9dd3affc"
      },
      "source": [
        "*Tip: A block is a group of threads. The number of threads per block is limited, but we can\n",
        "have many different blocks. Variable `cuda.blockIdx` tells us what block we are in.*"
      ]
    },
    {
      "cell_type": "code",
      "execution_count": null,
      "id": "6e0a6755",
      "metadata": {
        "execution": {
          "iopub.execute_input": "2022-08-07T21:24:41.803000Z",
          "iopub.status.busy": "2022-08-07T21:24:41.802566Z",
          "iopub.status.idle": "2022-08-07T21:24:41.980798Z",
          "shell.execute_reply": "2022-08-07T21:24:41.979932Z"
        },
        "id": "6e0a6755"
      },
      "outputs": [],
      "source": [
        "def map_block_test(cuda):\n",
        "    def call(out, a, size) -> None:\n",
        "        i = cuda.blockIdx.x * cuda.blockDim.x + cuda.threadIdx.x\n",
        "        # FILL ME IN (roughly 2 lines)\n",
        "\n",
        "    return call\n",
        "\n",
        "\n",
        "SIZE = 9\n",
        "out = np.zeros((SIZE,))\n",
        "a = np.arange(SIZE)\n",
        "problem = CudaProblem(\n",
        "    \"Blocks\",\n",
        "    map_block_test,\n",
        "    [a],\n",
        "    out,\n",
        "    [SIZE],\n",
        "    threadsperblock=Coord(4, 1),\n",
        "    blockspergrid=Coord(3, 1),\n",
        "    spec=map_spec,\n",
        ")\n",
        "problem.show()"
      ]
    },
    {
      "cell_type": "code",
      "execution_count": null,
      "id": "6c02498f",
      "metadata": {
        "execution": {
          "iopub.execute_input": "2022-08-07T21:24:41.985202Z",
          "iopub.status.busy": "2022-08-07T21:24:41.984759Z",
          "iopub.status.idle": "2022-08-07T21:24:42.023573Z",
          "shell.execute_reply": "2022-08-07T21:24:42.022706Z"
        },
        "lines_to_end_of_cell_marker": 0,
        "lines_to_next_cell": 1,
        "id": "6c02498f"
      },
      "outputs": [],
      "source": [
        "problem.check()"
      ]
    },
    {
      "cell_type": "markdown",
      "id": "e1871a41",
      "metadata": {
        "id": "e1871a41"
      },
      "source": [
        "## Puzzle 7 - Blocks 2D\n",
        "\n",
        "Implement the same kernel in 2D.  You have fewer threads per block\n",
        "than the size of `a` in both directions."
      ]
    },
    {
      "cell_type": "code",
      "execution_count": null,
      "id": "8ff4f1b6",
      "metadata": {
        "execution": {
          "iopub.execute_input": "2022-08-07T21:24:42.027634Z",
          "iopub.status.busy": "2022-08-07T21:24:42.027201Z",
          "iopub.status.idle": "2022-08-07T21:24:42.601813Z",
          "shell.execute_reply": "2022-08-07T21:24:42.600919Z"
        },
        "id": "8ff4f1b6"
      },
      "outputs": [],
      "source": [
        "def map_block2D_test(cuda):\n",
        "    def call(out, a, size) -> None:\n",
        "        i = cuda.blockIdx.x * cuda.blockDim.x + cuda.threadIdx.x\n",
        "        # FILL ME IN (roughly 4 lines)\n",
        "\n",
        "    return call\n",
        "\n",
        "\n",
        "SIZE = 5\n",
        "out = np.zeros((SIZE, SIZE))\n",
        "a = np.ones((SIZE, SIZE))\n",
        "\n",
        "problem = CudaProblem(\n",
        "    \"Blocks 2D\",\n",
        "    map_block2D_test,\n",
        "    [a],\n",
        "    out,\n",
        "    [SIZE],\n",
        "    threadsperblock=Coord(3, 3),\n",
        "    blockspergrid=Coord(2, 2),\n",
        "    spec=map_spec,\n",
        ")\n",
        "problem.show()"
      ]
    },
    {
      "cell_type": "code",
      "execution_count": null,
      "id": "e485a106",
      "metadata": {
        "execution": {
          "iopub.execute_input": "2022-08-07T21:24:42.608019Z",
          "iopub.status.busy": "2022-08-07T21:24:42.607554Z",
          "iopub.status.idle": "2022-08-07T21:24:42.645410Z",
          "shell.execute_reply": "2022-08-07T21:24:42.644607Z"
        },
        "id": "e485a106"
      },
      "outputs": [],
      "source": [
        "problem.check()"
      ]
    },
    {
      "cell_type": "markdown",
      "id": "4031ed95",
      "metadata": {
        "id": "4031ed95"
      },
      "source": [
        "## Puzzle 8 - Shared\n",
        "\n",
        "Implement a kernel that adds 10 to each position of `a` and stores it in `out`.\n",
        "You have fewer threads per block than the size of `a`."
      ]
    },
    {
      "cell_type": "markdown",
      "id": "2df50159",
      "metadata": {
        "id": "2df50159"
      },
      "source": [
        "**Warning**: Each block can only have a *constant* amount of shared\n",
        " memory that threads in that block can read and write to. This needs\n",
        " to be a literal python constant not a variable. After writing to\n",
        " shared memory you need to call `cuda.syncthreads` to ensure that\n",
        " threads do not cross."
      ]
    },
    {
      "cell_type": "markdown",
      "id": "9b4a21b0",
      "metadata": {
        "id": "9b4a21b0"
      },
      "source": [
        "(This example does not really need shared memory or syncthreads, but it is a demo.)"
      ]
    },
    {
      "cell_type": "code",
      "execution_count": null,
      "id": "62213ea0",
      "metadata": {
        "execution": {
          "iopub.execute_input": "2022-08-07T21:24:42.649928Z",
          "iopub.status.busy": "2022-08-07T21:24:42.649199Z",
          "iopub.status.idle": "2022-08-07T21:24:42.854066Z",
          "shell.execute_reply": "2022-08-07T21:24:42.853252Z"
        },
        "id": "62213ea0"
      },
      "outputs": [],
      "source": [
        "TPB = 4\n",
        "def shared_test(cuda):\n",
        "    def call(out, a, size) -> None:\n",
        "        shared = cuda.shared.array(TPB, numba.float32)\n",
        "        i = cuda.blockIdx.x * cuda.blockDim.x + cuda.threadIdx.x\n",
        "        local_i = cuda.threadIdx.x\n",
        "\n",
        "        if i < size:\n",
        "            shared[local_i] = a[i]\n",
        "            cuda.syncthreads()\n",
        "\n",
        "        # FILL ME IN (roughly 2 lines)\n",
        "\n",
        "    return call\n",
        "\n",
        "\n",
        "SIZE = 8\n",
        "out = np.zeros(SIZE)\n",
        "a = np.ones(SIZE)\n",
        "problem = CudaProblem(\n",
        "    \"Shared\",\n",
        "    shared_test,\n",
        "    [a],\n",
        "    out,\n",
        "    [SIZE],\n",
        "    threadsperblock=Coord(TPB, 1),\n",
        "    blockspergrid=Coord(2, 1),\n",
        "    spec=map_spec,\n",
        ")\n",
        "problem.show()"
      ]
    },
    {
      "cell_type": "code",
      "execution_count": null,
      "id": "6193e0ea",
      "metadata": {
        "execution": {
          "iopub.execute_input": "2022-08-07T21:24:42.858447Z",
          "iopub.status.busy": "2022-08-07T21:24:42.858006Z",
          "iopub.status.idle": "2022-08-07T21:24:42.926443Z",
          "shell.execute_reply": "2022-08-07T21:24:42.925655Z"
        },
        "lines_to_end_of_cell_marker": 0,
        "lines_to_next_cell": 1,
        "id": "6193e0ea"
      },
      "outputs": [],
      "source": [
        "problem.check()"
      ]
    },
    {
      "cell_type": "markdown",
      "id": "815ee2ee",
      "metadata": {
        "id": "815ee2ee"
      },
      "source": [
        "## Puzzle 9 - Pooling\n",
        "\n",
        "Implement a kernel that sums together the last 3 position of `a` and stores it in `out`.\n",
        "You have 1 thread per position. You only need 1 global read and 1 global write per thread."
      ]
    },
    {
      "cell_type": "markdown",
      "id": "9947cff1",
      "metadata": {
        "id": "9947cff1"
      },
      "source": [
        "*Tip: Remember to be careful about syncing.*"
      ]
    },
    {
      "cell_type": "code",
      "execution_count": null,
      "id": "f35e5fdb",
      "metadata": {
        "execution": {
          "iopub.execute_input": "2022-08-07T21:24:42.930415Z",
          "iopub.status.busy": "2022-08-07T21:24:42.929976Z",
          "iopub.status.idle": "2022-08-07T21:24:43.020899Z",
          "shell.execute_reply": "2022-08-07T21:24:43.020143Z"
        },
        "id": "f35e5fdb"
      },
      "outputs": [],
      "source": [
        "def pool_spec(a):\n",
        "    out = np.zeros(*a.shape)\n",
        "    for i in range(a.shape[0]):\n",
        "        out[i] = a[max(i - 2, 0) : i + 1].sum()\n",
        "    return out\n",
        "\n",
        "\n",
        "TPB = 8\n",
        "def pool_test(cuda):\n",
        "    def call(out, a, size) -> None:\n",
        "        shared = cuda.shared.array(TPB, numba.float32)\n",
        "        i = cuda.blockIdx.x * cuda.blockDim.x + cuda.threadIdx.x\n",
        "        local_i = cuda.threadIdx.x\n",
        "        # FILL ME IN (roughly 8 lines)\n",
        "\n",
        "    return call\n",
        "\n",
        "\n",
        "SIZE = 8\n",
        "out = np.zeros(SIZE)\n",
        "a = np.arange(SIZE)\n",
        "problem = CudaProblem(\n",
        "    \"Pooling\",\n",
        "    pool_test,\n",
        "    [a],\n",
        "    out,\n",
        "    [SIZE],\n",
        "    threadsperblock=Coord(TPB, 1),\n",
        "    blockspergrid=Coord(1, 1),\n",
        "    spec=pool_spec,\n",
        ")\n",
        "problem.show()"
      ]
    },
    {
      "cell_type": "code",
      "execution_count": null,
      "id": "b9ac503e",
      "metadata": {
        "execution": {
          "iopub.execute_input": "2022-08-07T21:24:43.024701Z",
          "iopub.status.busy": "2022-08-07T21:24:43.024250Z",
          "iopub.status.idle": "2022-08-07T21:24:43.069099Z",
          "shell.execute_reply": "2022-08-07T21:24:43.068252Z"
        },
        "lines_to_end_of_cell_marker": 0,
        "lines_to_next_cell": 1,
        "id": "b9ac503e"
      },
      "outputs": [],
      "source": [
        "problem.check()"
      ]
    },
    {
      "cell_type": "markdown",
      "id": "04727aa4",
      "metadata": {
        "id": "04727aa4"
      },
      "source": [
        "## Puzzle 10 - Dot Product\n",
        "\n",
        "Implement a kernel that computes the dot-product of `a` and `b` and stores it in `out`.\n",
        "You have 1 thread per position. You only need 2 global reads and 1 global write per thread."
      ]
    },
    {
      "cell_type": "markdown",
      "id": "1a63a4c2",
      "metadata": {
        "id": "1a63a4c2"
      },
      "source": [
        "*Note: For this problem you don't need to worry about number of shared reads. We will\n",
        " handle that challenge later.*"
      ]
    },
    {
      "cell_type": "code",
      "execution_count": null,
      "id": "e5d84c0f",
      "metadata": {
        "execution": {
          "iopub.execute_input": "2022-08-07T21:24:43.073281Z",
          "iopub.status.busy": "2022-08-07T21:24:43.072839Z",
          "iopub.status.idle": "2022-08-07T21:24:43.174688Z",
          "shell.execute_reply": "2022-08-07T21:24:43.173818Z"
        },
        "id": "e5d84c0f"
      },
      "outputs": [],
      "source": [
        "def dot_spec(a, b):\n",
        "    return a @ b\n",
        "\n",
        "TPB = 8\n",
        "def dot_test(cuda):\n",
        "    def call(out, a, b, size) -> None:\n",
        "        shared = cuda.shared.array(TPB, numba.float32)\n",
        "\n",
        "        i = cuda.blockIdx.x * cuda.blockDim.x + cuda.threadIdx.x\n",
        "        local_i = cuda.threadIdx.x\n",
        "        # FILL ME IN (roughly 9 lines)\n",
        "    return call\n",
        "\n",
        "\n",
        "SIZE = 8\n",
        "out = np.zeros(1)\n",
        "a = np.arange(SIZE)\n",
        "b = np.arange(SIZE)\n",
        "problem = CudaProblem(\n",
        "    \"Dot\",\n",
        "    dot_test,\n",
        "    [a, b],\n",
        "    out,\n",
        "    [SIZE],\n",
        "    threadsperblock=Coord(SIZE, 1),\n",
        "    blockspergrid=Coord(1, 1),\n",
        "    spec=dot_spec,\n",
        ")\n",
        "problem.show()"
      ]
    },
    {
      "cell_type": "code",
      "execution_count": null,
      "id": "1452858a",
      "metadata": {
        "execution": {
          "iopub.execute_input": "2022-08-07T21:24:43.178517Z",
          "iopub.status.busy": "2022-08-07T21:24:43.178082Z",
          "iopub.status.idle": "2022-08-07T21:24:43.224369Z",
          "shell.execute_reply": "2022-08-07T21:24:43.223563Z"
        },
        "id": "1452858a"
      },
      "outputs": [],
      "source": [
        "problem.check()"
      ]
    },
    {
      "cell_type": "markdown",
      "id": "060685a2",
      "metadata": {
        "lines_to_next_cell": 2,
        "id": "060685a2"
      },
      "source": [
        "## Puzzle 11 - 1D Convolution\n",
        "\n",
        "Implement a kernel that computes a 1D convolution between `a` and `b` and stores it in `out`.\n",
        "You need to handle the general case. You only need 2 global reads and 1 global write per thread."
      ]
    },
    {
      "cell_type": "code",
      "execution_count": null,
      "id": "d311eeeb",
      "metadata": {
        "execution": {
          "iopub.execute_input": "2022-08-07T21:24:43.228540Z",
          "iopub.status.busy": "2022-08-07T21:24:43.228045Z",
          "iopub.status.idle": "2022-08-07T21:24:43.325332Z",
          "shell.execute_reply": "2022-08-07T21:24:43.324481Z"
        },
        "id": "d311eeeb"
      },
      "outputs": [],
      "source": [
        "def conv_spec(a, b):\n",
        "    out = np.zeros(*a.shape)\n",
        "    len = b.shape[0]\n",
        "    for i in range(a.shape[0]):\n",
        "        out[i] = sum([a[i + j] * b[j] for j in range(len) if i + j < a.shape[0]])\n",
        "    return out\n",
        "\n",
        "\n",
        "MAX_CONV = 4\n",
        "TPB = 8\n",
        "TPB_MAX_CONV = TPB + MAX_CONV\n",
        "def conv_test(cuda):\n",
        "    def call(out, a, b, a_size, b_size) -> None:\n",
        "        i = cuda.blockIdx.x * cuda.blockDim.x + cuda.threadIdx.x\n",
        "        local_i = cuda.threadIdx.x\n",
        "\n",
        "        # FILL ME IN (roughly 17 lines)\n",
        "\n",
        "    return call\n",
        "\n",
        "\n",
        "# Test 1\n",
        "\n",
        "SIZE = 6\n",
        "CONV = 3\n",
        "out = np.zeros(SIZE)\n",
        "a = np.arange(SIZE)\n",
        "b = np.arange(CONV)\n",
        "problem = CudaProblem(\n",
        "    \"1D Conv (Simple)\",\n",
        "    conv_test,\n",
        "    [a, b],\n",
        "    out,\n",
        "    [SIZE, CONV],\n",
        "    Coord(1, 1),\n",
        "    Coord(TPB, 1),\n",
        "    spec=conv_spec,\n",
        ")\n",
        "problem.show()"
      ]
    },
    {
      "cell_type": "code",
      "execution_count": null,
      "id": "ffb88cd0",
      "metadata": {
        "execution": {
          "iopub.execute_input": "2022-08-07T21:24:43.329452Z",
          "iopub.status.busy": "2022-08-07T21:24:43.328685Z",
          "iopub.status.idle": "2022-08-07T21:24:43.368279Z",
          "shell.execute_reply": "2022-08-07T21:24:43.367480Z"
        },
        "id": "ffb88cd0"
      },
      "outputs": [],
      "source": [
        "problem.check()"
      ]
    },
    {
      "cell_type": "markdown",
      "id": "fd6ffcb3",
      "metadata": {
        "id": "fd6ffcb3"
      },
      "source": [
        "Test 2"
      ]
    },
    {
      "cell_type": "code",
      "execution_count": null,
      "id": "60853445",
      "metadata": {
        "execution": {
          "iopub.execute_input": "2022-08-07T21:24:43.372330Z",
          "iopub.status.busy": "2022-08-07T21:24:43.371893Z",
          "iopub.status.idle": "2022-08-07T21:24:43.587696Z",
          "shell.execute_reply": "2022-08-07T21:24:43.586874Z"
        },
        "id": "60853445"
      },
      "outputs": [],
      "source": [
        "out = np.zeros(15)\n",
        "a = np.arange(15)\n",
        "b = np.arange(4)\n",
        "problem = CudaProblem(\n",
        "    \"1D Conv (Full)\",\n",
        "    conv_test,\n",
        "    [a, b],\n",
        "    out,\n",
        "    [15, 4],\n",
        "    Coord(2, 1),\n",
        "    Coord(TPB, 1),\n",
        "    spec=conv_spec,\n",
        ")\n",
        "problem.show()"
      ]
    },
    {
      "cell_type": "code",
      "execution_count": null,
      "id": "80a29f20",
      "metadata": {
        "execution": {
          "iopub.execute_input": "2022-08-07T21:24:43.592341Z",
          "iopub.status.busy": "2022-08-07T21:24:43.591898Z",
          "iopub.status.idle": "2022-08-07T21:24:43.632088Z",
          "shell.execute_reply": "2022-08-07T21:24:43.631270Z"
        },
        "id": "80a29f20"
      },
      "outputs": [],
      "source": [
        "problem.check()"
      ]
    },
    {
      "cell_type": "markdown",
      "id": "2d5f53d7",
      "metadata": {
        "id": "2d5f53d7"
      },
      "source": [
        "## Puzzle 12 - Prefix Sum\n",
        "\n",
        "Implement a kernel that computes a sum over `a` and stores it in `out`.\n",
        "If the size of `a` is greater than the block size, only store the sum of\n",
        "each block."
      ]
    },
    {
      "cell_type": "markdown",
      "id": "2e41aec0",
      "metadata": {
        "id": "2e41aec0"
      },
      "source": [
        "We will do this using the [parallel prefix sum](https://en.wikipedia.org/wiki/Prefix_sum) algorithm in shared memory.\n",
        "That is, each step of the algorithm should sum together half the remaining numbers.\n",
        "Follow this diagram:"
      ]
    },
    {
      "cell_type": "markdown",
      "id": "9c6a47dd",
      "metadata": {
        "id": "9c6a47dd"
      },
      "source": [
        "![](https://user-images.githubusercontent.com/35882/178757889-1c269623-93af-4a2e-a7e9-22cd55a42e38.png)"
      ]
    },
    {
      "cell_type": "code",
      "execution_count": null,
      "id": "130a0a8d",
      "metadata": {
        "execution": {
          "iopub.execute_input": "2022-08-07T21:24:43.636349Z",
          "iopub.status.busy": "2022-08-07T21:24:43.635880Z",
          "iopub.status.idle": "2022-08-07T21:24:43.714064Z",
          "shell.execute_reply": "2022-08-07T21:24:43.713293Z"
        },
        "id": "130a0a8d"
      },
      "outputs": [],
      "source": [
        "TPB = 8\n",
        "def sum_spec(a):\n",
        "    out = np.zeros((a.shape[0] + TPB - 1) // TPB)\n",
        "    for j, i in enumerate(range(0, a.shape[-1], TPB)):\n",
        "        out[j] = a[i : i + TPB].sum()\n",
        "    return out\n",
        "\n",
        "\n",
        "def sum_test(cuda):\n",
        "    def call(out, a, size: int) -> None:\n",
        "        cache = cuda.shared.array(TPB, numba.float32)\n",
        "        i = cuda.blockIdx.x * cuda.blockDim.x + cuda.threadIdx.x\n",
        "        local_i = cuda.threadIdx.x\n",
        "        # FILL ME IN (roughly 12 lines)\n",
        "\n",
        "    return call\n",
        "\n",
        "\n",
        "# Test 1\n",
        "\n",
        "SIZE = 8\n",
        "out = np.zeros(1)\n",
        "inp = np.arange(SIZE)\n",
        "problem = CudaProblem(\n",
        "    \"Sum (Simple)\",\n",
        "    sum_test,\n",
        "    [inp],\n",
        "    out,\n",
        "    [SIZE],\n",
        "    Coord(1, 1),\n",
        "    Coord(TPB, 1),\n",
        "    spec=sum_spec,\n",
        ")\n",
        "problem.show()"
      ]
    },
    {
      "cell_type": "code",
      "execution_count": null,
      "id": "e03a0c71",
      "metadata": {
        "execution": {
          "iopub.execute_input": "2022-08-07T21:24:43.717874Z",
          "iopub.status.busy": "2022-08-07T21:24:43.717439Z",
          "iopub.status.idle": "2022-08-07T21:24:43.762084Z",
          "shell.execute_reply": "2022-08-07T21:24:43.761264Z"
        },
        "id": "e03a0c71"
      },
      "outputs": [],
      "source": [
        "problem.check()"
      ]
    },
    {
      "cell_type": "markdown",
      "id": "ccd86af0",
      "metadata": {
        "id": "ccd86af0"
      },
      "source": [
        "Test 2"
      ]
    },
    {
      "cell_type": "code",
      "execution_count": null,
      "id": "89b021a9",
      "metadata": {
        "execution": {
          "iopub.execute_input": "2022-08-07T21:24:43.766261Z",
          "iopub.status.busy": "2022-08-07T21:24:43.765816Z",
          "iopub.status.idle": "2022-08-07T21:24:43.906583Z",
          "shell.execute_reply": "2022-08-07T21:24:43.905757Z"
        },
        "id": "89b021a9"
      },
      "outputs": [],
      "source": [
        "SIZE = 15\n",
        "out = np.zeros(2)\n",
        "inp = np.arange(SIZE)\n",
        "problem = CudaProblem(\n",
        "    \"Sum (Full)\",\n",
        "    sum_test,\n",
        "    [inp],\n",
        "    out,\n",
        "    [SIZE],\n",
        "    Coord(2, 1),\n",
        "    Coord(TPB, 1),\n",
        "    spec=sum_spec,\n",
        ")\n",
        "problem.show()"
      ]
    },
    {
      "cell_type": "code",
      "execution_count": null,
      "id": "16dad418",
      "metadata": {
        "execution": {
          "iopub.execute_input": "2022-08-07T21:24:43.910655Z",
          "iopub.status.busy": "2022-08-07T21:24:43.910219Z",
          "iopub.status.idle": "2022-08-07T21:24:43.955778Z",
          "shell.execute_reply": "2022-08-07T21:24:43.954979Z"
        },
        "id": "16dad418"
      },
      "outputs": [],
      "source": [
        "problem.check()"
      ]
    },
    {
      "cell_type": "markdown",
      "id": "162146c3",
      "metadata": {
        "id": "162146c3"
      },
      "source": [
        "## Puzzle 13 - Axis Sum\n",
        "\n",
        "Implement a kernel that computes a sum over each column of `a` and stores it in `out`."
      ]
    },
    {
      "cell_type": "code",
      "execution_count": null,
      "id": "e87fd5df",
      "metadata": {
        "execution": {
          "iopub.execute_input": "2022-08-07T21:24:43.959820Z",
          "iopub.status.busy": "2022-08-07T21:24:43.959380Z",
          "iopub.status.idle": "2022-08-07T21:24:44.280640Z",
          "shell.execute_reply": "2022-08-07T21:24:44.279832Z"
        },
        "id": "e87fd5df"
      },
      "outputs": [],
      "source": [
        "TPB = 8\n",
        "def sum_spec(a):\n",
        "    out = np.zeros((a.shape[0], (a.shape[1] + TPB - 1) // TPB))\n",
        "    for j, i in enumerate(range(0, a.shape[-1], TPB)):\n",
        "        out[..., j] = a[..., i : i + TPB].sum(-1)\n",
        "    return out\n",
        "\n",
        "\n",
        "def axis_sum_test(cuda):\n",
        "    def call(out, a, size: int) -> None:\n",
        "        cache = cuda.shared.array(TPB, numba.float32)\n",
        "        i = cuda.blockIdx.x * cuda.blockDim.x + cuda.threadIdx.x\n",
        "        local_i = cuda.threadIdx.x\n",
        "        batch = cuda.blockIdx.y\n",
        "        # FILL ME IN (roughly 12 lines)\n",
        "\n",
        "    return call\n",
        "\n",
        "\n",
        "BATCH = 4\n",
        "SIZE = 6\n",
        "out = np.zeros((BATCH, 1))\n",
        "inp = np.arange(BATCH * SIZE).reshape((BATCH, SIZE))\n",
        "problem = CudaProblem(\n",
        "    \"Axis Sum\",\n",
        "    axis_sum_test,\n",
        "    [inp],\n",
        "    out,\n",
        "    [SIZE],\n",
        "    Coord(1, BATCH),\n",
        "    Coord(TPB, 1),\n",
        "    spec=sum_spec,\n",
        ")\n",
        "problem.show()"
      ]
    },
    {
      "cell_type": "code",
      "execution_count": null,
      "id": "c3326563",
      "metadata": {
        "execution": {
          "iopub.execute_input": "2022-08-07T21:24:44.289173Z",
          "iopub.status.busy": "2022-08-07T21:24:44.288667Z",
          "iopub.status.idle": "2022-08-07T21:24:44.336305Z",
          "shell.execute_reply": "2022-08-07T21:24:44.335469Z"
        },
        "lines_to_end_of_cell_marker": 0,
        "lines_to_next_cell": 1,
        "id": "c3326563"
      },
      "outputs": [],
      "source": [
        "problem.check()"
      ]
    },
    {
      "cell_type": "markdown",
      "id": "300312e8",
      "metadata": {
        "id": "300312e8"
      },
      "source": [
        "## Puzzle 14 - Matrix Multiply!\n",
        "\n",
        "Implement a kernel that multiplies square matrices `a` and `b` and\n",
        "stores the result in `out`.\n",
        "\n",
        "*Tip: The most efficient algorithm here will copy a block into\n",
        " shared memory before computing each of the individual row-column\n",
        " dot products. This is easy to do if the matrix fits in shared\n",
        " memory.  Do that case first. Then update your code to compute\n",
        " a partial dot-product and iteratively move the part you\n",
        " copied into shared memory.* You should be able to do the hard case\n",
        " in 6 global reads."
      ]
    },
    {
      "cell_type": "code",
      "execution_count": null,
      "id": "252db1c3",
      "metadata": {
        "execution": {
          "iopub.execute_input": "2022-08-07T21:24:44.340330Z",
          "iopub.status.busy": "2022-08-07T21:24:44.339875Z",
          "iopub.status.idle": "2022-08-07T21:24:44.433833Z",
          "shell.execute_reply": "2022-08-07T21:24:44.433028Z"
        },
        "id": "252db1c3"
      },
      "outputs": [],
      "source": [
        "def matmul_spec(a, b):\n",
        "    return a @ b\n",
        "\n",
        "\n",
        "TPB = 3\n",
        "def mm_oneblock_test(cuda):\n",
        "    def call(out, a, b, size: int) -> None:\n",
        "        a_shared = cuda.shared.array((TPB, TPB), numba.float32)\n",
        "        b_shared = cuda.shared.array((TPB, TPB), numba.float32)\n",
        "\n",
        "        i = cuda.blockIdx.x * cuda.blockDim.x + cuda.threadIdx.x\n",
        "        j = cuda.blockIdx.y * cuda.blockDim.y + cuda.threadIdx.y\n",
        "        local_i = cuda.threadIdx.x\n",
        "        local_j = cuda.threadIdx.y\n",
        "        # FILL ME IN (roughly 14 lines)\n",
        "\n",
        "    return call\n",
        "\n",
        "# Test 1\n",
        "\n",
        "SIZE = 2\n",
        "out = np.zeros((SIZE, SIZE))\n",
        "inp1 = np.arange(SIZE * SIZE).reshape((SIZE, SIZE))\n",
        "inp2 = np.arange(SIZE * SIZE).reshape((SIZE, SIZE)).T\n",
        "\n",
        "problem = CudaProblem(\n",
        "    \"Matmul (Simple)\",\n",
        "    mm_oneblock_test,\n",
        "    [inp1, inp2],\n",
        "    out,\n",
        "    [SIZE],\n",
        "    Coord(1, 1),\n",
        "    Coord(TPB, TPB),\n",
        "    spec=matmul_spec,\n",
        ")\n",
        "problem.show(sparse=True)"
      ]
    },
    {
      "cell_type": "code",
      "execution_count": null,
      "id": "cb812973",
      "metadata": {
        "execution": {
          "iopub.execute_input": "2022-08-07T21:24:44.437576Z",
          "iopub.status.busy": "2022-08-07T21:24:44.437142Z",
          "iopub.status.idle": "2022-08-07T21:24:44.502001Z",
          "shell.execute_reply": "2022-08-07T21:24:44.501163Z"
        },
        "id": "cb812973"
      },
      "outputs": [],
      "source": [
        "problem.check()"
      ]
    },
    {
      "cell_type": "markdown",
      "id": "f119be2d",
      "metadata": {
        "id": "f119be2d"
      },
      "source": [
        "Test 2"
      ]
    },
    {
      "cell_type": "code",
      "execution_count": null,
      "id": "e713d056",
      "metadata": {
        "execution": {
          "iopub.execute_input": "2022-08-07T21:24:44.506178Z",
          "iopub.status.busy": "2022-08-07T21:24:44.505708Z",
          "iopub.status.idle": "2022-08-07T21:24:47.932059Z",
          "shell.execute_reply": "2022-08-07T21:24:47.931153Z"
        },
        "id": "e713d056"
      },
      "outputs": [],
      "source": [
        "SIZE = 8\n",
        "out = np.zeros((SIZE, SIZE))\n",
        "inp1 = np.arange(SIZE * SIZE).reshape((SIZE, SIZE))\n",
        "inp2 = np.arange(SIZE * SIZE).reshape((SIZE, SIZE)).T\n",
        "\n",
        "problem = CudaProblem(\n",
        "    \"Matmul (Full)\",\n",
        "    mm_oneblock_test,\n",
        "    [inp1, inp2],\n",
        "    out,\n",
        "    [SIZE],\n",
        "    Coord(3, 3),\n",
        "    Coord(TPB, TPB),\n",
        "    spec=matmul_spec,\n",
        ")\n",
        "problem.show(sparse=True)"
      ]
    },
    {
      "cell_type": "code",
      "execution_count": null,
      "id": "61bda17c",
      "metadata": {
        "execution": {
          "iopub.execute_input": "2022-08-07T21:24:47.956298Z",
          "iopub.status.busy": "2022-08-07T21:24:47.955822Z",
          "iopub.status.idle": "2022-08-07T21:24:48.019620Z",
          "shell.execute_reply": "2022-08-07T21:24:48.018792Z"
        },
        "id": "61bda17c"
      },
      "outputs": [],
      "source": [
        "problem.check()"
      ]
    }
  ],
  "metadata": {
    "jupytext": {
      "cell_metadata_filter": "-all"
    },
    "kernelspec": {
      "display_name": "Python 3",
      "name": "python3"
    },
    "language_info": {
      "codemirror_mode": {
        "name": "ipython",
        "version": 3
      },
      "file_extension": ".py",
      "mimetype": "text/x-python",
      "name": "python",
      "nbconvert_exporter": "python",
      "pygments_lexer": "ipython3",
      "version": "3.8.10"
    },
    "colab": {
      "provenance": [],
      "gpuType": "T4"
    },
    "accelerator": "GPU"
  },
  "nbformat": 4,
  "nbformat_minor": 5
}